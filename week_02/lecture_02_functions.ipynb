{
 "cells": [
  {
   "cell_type": "markdown",
   "metadata": {},
   "source": [
    "# Functions\n",
    "\n",
    "\n",
    "We already saw some built-in functions in Python, such as print(), len(), input().\n",
    "By importing the math module, we are able to use functions such as math.log(), math.sqrt(), etc.\n",
    "\n",
    "You can define your own functions (**user-defined functions**) that execute a series of commands when called.\n",
    "\n",
    "As <https://automatetheboringstuff.com/chapter3/>  puts it, \"A function is like a mini-program within a program.\"\n",
    "\n",
    "You may define a function when e.g.\n",
    "- You want to increase the readability of your code;\n",
    "    - e.g. you have a very long series of commands that can be logically considered one group.\n",
    "    - Once you write a function that executes these commands, you can just import and call it in the main program.\n",
    "- You want to use a part of your code in other programs;\n",
    "    - e.g. in one part of your code you compute an OLS estimate from a particular data set.\n",
    "    - If you write a function that calculates an OLS estimate from given input (y,X), you can import and call it from other programs as well.\n",
    "\n",
    "\n",
    "See <https://automatetheboringstuff.com/chapter3/> for more information about user-defined functions.\n"
   ]
  },
  {
   "cell_type": "code",
   "execution_count": 5,
   "metadata": {},
   "outputs": [],
   "source": [
    "import math"
   ]
  },
  {
   "cell_type": "markdown",
   "metadata": {},
   "source": [
    "\n",
    "Recall that for a differentiable function $f$, we have \n",
    "$$ f'(x) := \\lim_{e \\downarrow 0} \\frac{f(x+e)-f(x)}{e}.$$\n",
    "\n",
    "Hence, for a given $x$ and for a \"sufficiently small\" e>0, we must have\n",
    "$$ f'(x) \\approx \\frac{f(x+e)-f(x)}{e}.$$\n",
    "\n",
    "Let us compute an approximate derivative of $f(x) = \\ln x$. We know that $f'(x) = 1/x$, and therefore we can evaluate an approximation error."
   ]
  },
  {
   "cell_type": "code",
   "execution_count": 6,
   "metadata": {},
   "outputs": [
    {
     "name": "stdout",
     "output_type": "stream",
     "text": [
      "0.1000000082740371\n",
      "0.1\n"
     ]
    }
   ],
   "source": [
    "e = 1e-8   # this notation means 1*10**(-8). What does 4e-5 mean then?\n",
    "x = 10.0\n",
    "\n",
    "fp_approx = (math.log(x+e)-math.log(x))/e\n",
    "fp_exact = 1/x\n",
    "\n",
    "print(fp_approx)\n",
    "print(fp_exact)"
   ]
  },
  {
   "cell_type": "markdown",
   "metadata": {},
   "source": [
    "Let us define the function that takes (x,e) as input and returns the approximate derivative of log function.\n",
    "\n",
    "Here is a syntax to define a function:"
   ]
  },
  {
   "cell_type": "raw",
   "metadata": {},
   "source": [
    "def _functionname_(_input list_):\n",
    "    \n",
    "    _series of commands_\n",
    "    \n",
    "    return _variables_\n",
    "    "
   ]
  },
  {
   "cell_type": "markdown",
   "metadata": {},
   "source": [
    "For example, we can define a function that takes (x,y) as input and returns x+y and x-y as output:"
   ]
  },
  {
   "cell_type": "code",
   "execution_count": 7,
   "metadata": {},
   "outputs": [
    {
     "name": "stdout",
     "output_type": "stream",
     "text": [
      "(12, 8)\n"
     ]
    }
   ],
   "source": [
    "x = 10\n",
    "y = 2\n",
    "\n",
    "def example_func(x1,x2):\n",
    "    a = x1+x2\n",
    "    s = x1-x2\n",
    "    return a,s \n",
    "\n",
    "sum_xy, sub_xy = example_func(x,y)\n",
    "\n",
    "print((sum_xy,sub_xy))"
   ]
  },
  {
   "cell_type": "markdown",
   "metadata": {},
   "source": [
    "A one-sided derivative approximation can be written as:"
   ]
  },
  {
   "cell_type": "code",
   "execution_count": 9,
   "metadata": {},
   "outputs": [],
   "source": [
    "def log_deriv(x,e):\n",
    "    return (math.log(x+e)-math.log(x))/e"
   ]
  },
  {
   "cell_type": "code",
   "execution_count": 10,
   "metadata": {},
   "outputs": [
    {
     "data": {
      "text/plain": [
       "0.1000000082740371"
      ]
     },
     "execution_count": 10,
     "metadata": {},
     "output_type": "execute_result"
    }
   ],
   "source": [
    "log_deriv(10.0, 1e-8)"
   ]
  },
  {
   "cell_type": "markdown",
   "metadata": {},
   "source": [
    "So far so good. What if we change $x$?"
   ]
  },
  {
   "cell_type": "code",
   "execution_count": 11,
   "metadata": {},
   "outputs": [
    {
     "name": "stdout",
     "output_type": "stream",
     "text": [
      "0.0001000088900582341\n",
      "0.0001\n"
     ]
    }
   ],
   "source": [
    "x = 10000.0\n",
    "print(log_deriv(x, 1e-8))\n",
    "print(1/x)"
   ]
  },
  {
   "cell_type": "markdown",
   "metadata": {},
   "source": [
    "Mathematically, we expect that we can improve the approximation arbitrarily well by decreasing e toward zero. \n",
    "\n",
    "Let's check what happens as we decrease e."
   ]
  },
  {
   "cell_type": "code",
   "execution_count": 12,
   "metadata": {},
   "outputs": [
    {
     "name": "stdout",
     "output_type": "stream",
     "text": [
      "True value = 0.0001\n",
      "0.0001000000082740371\n",
      "0.0001000088900582341\n",
      "8.881784197001252e-05\n",
      "0.0\n",
      "0.0\n",
      "0.0\n"
     ]
    }
   ],
   "source": [
    "print('True value = ' + str(1/x))\n",
    "\n",
    "print(log_deriv(x, 1e-6))\n",
    "print(log_deriv(x, 1e-8))\n",
    "print(log_deriv(x, 1e-10))\n",
    "print(log_deriv(x, 1e-12))\n",
    "print(log_deriv(x, 1e-14))\n",
    "print(log_deriv(x, 1e-16))"
   ]
  },
  {
   "cell_type": "markdown",
   "metadata": {},
   "source": [
    "It appears that approximation gets worse and worse as we decrease e! \n",
    "\n",
    "This is due to the floating point arithmetic. \n",
    "\n",
    "We cannot represent all real numbers exactly on a computer, and the double-precision floating point format uses 64 of 0s and 1s to approximate them. (Hene we almost always have _rounding/round-off errors_.) Although a very wide range of numbers can be expressed in this format, a large number in this format necessarily has a smaller number of digits after the decimal mark. As a result, when you add/subtract a very small number from a very large number, addition/subtraction may have ZERO effect. This is what we saw above.\n"
   ]
  },
  {
   "cell_type": "markdown",
   "metadata": {},
   "source": [
    "We can guard against (though only imperfectly) by scaling up e when |x| is large. See the following example:"
   ]
  },
  {
   "cell_type": "code",
   "execution_count": 14,
   "metadata": {},
   "outputs": [],
   "source": [
    "def log_deriv_2(x,e):\n",
    "    d = e*max(abs(x), 1.0)\n",
    "    return (math.log(x+d)-math.log(x))/d"
   ]
  },
  {
   "cell_type": "code",
   "execution_count": 15,
   "metadata": {},
   "outputs": [
    {
     "name": "stdout",
     "output_type": "stream",
     "text": [
      "True value = 0.0001\n",
      "9.999994983189708e-05\n",
      "9.99999905104687e-05\n",
      "0.0001000000082740371\n",
      "0.0001000088900582341\n",
      "8.881784197001252e-05\n",
      "0.0\n"
     ]
    }
   ],
   "source": [
    "x = 10000.0\n",
    "print('True value = ' + str(1/x))\n",
    "\n",
    "print(log_deriv_2(x, 1e-6))\n",
    "print(log_deriv_2(x, 1e-8))\n",
    "print(log_deriv_2(x, 1e-10))\n",
    "print(log_deriv_2(x, 1e-12))\n",
    "print(log_deriv_2(x, 1e-14))\n",
    "print(log_deriv_2(x, 1e-16))"
   ]
  },
  {
   "cell_type": "markdown",
   "metadata": {},
   "source": [
    "In the new example, the error is smaller than previously.\n",
    "\n",
    "It is important to be aware of the possibility of approximation errors. "
   ]
  },
  {
   "cell_type": "markdown",
   "metadata": {},
   "source": [
    "## Hands-on practice: polynomial evaluation"
   ]
  },
  {
   "cell_type": "markdown",
   "metadata": {},
   "source": [
    "Import the Numpy module as np. (This is a common practice.)"
   ]
  },
  {
   "cell_type": "code",
   "execution_count": 16,
   "metadata": {},
   "outputs": [],
   "source": [
    "import numpy as np"
   ]
  },
  {
   "cell_type": "code",
   "execution_count": 17,
   "metadata": {},
   "outputs": [
    {
     "data": {
      "text/plain": [
       "array([ 1.13523627, -0.84927013,  0.19362135])"
      ]
     },
     "execution_count": 17,
     "metadata": {},
     "output_type": "execute_result"
    }
   ],
   "source": [
    "n = 3\n",
    "\n",
    "a = np.random.randn(n)\n",
    "a"
   ]
  },
  {
   "cell_type": "markdown",
   "metadata": {},
   "source": [
    "a is an array of size n. \n",
    "numpy.random.randn is a random number generator based on the standard normal distribution."
   ]
  },
  {
   "cell_type": "code",
   "execution_count": 18,
   "metadata": {},
   "outputs": [
    {
     "data": {
      "text/plain": [
       "3"
      ]
     },
     "execution_count": 18,
     "metadata": {},
     "output_type": "execute_result"
    }
   ],
   "source": [
    "n = len(a)\n",
    "n"
   ]
  },
  {
   "cell_type": "markdown",
   "metadata": {},
   "source": [
    "Suppose we want to evaluate a polynomial with a coefficient vector $a$ at $x \\in \\mathbb{R}$, i.e.\n",
    "\n",
    "$$ P(x,a) = a_0 + a_1 x +a_2 x^2.$$\n",
    "\n",
    "We can do it without defining a function:"
   ]
  },
  {
   "cell_type": "code",
   "execution_count": 19,
   "metadata": {},
   "outputs": [
    {
     "data": {
      "text/plain": [
       "0.4795874903689934"
      ]
     },
     "execution_count": 19,
     "metadata": {},
     "output_type": "execute_result"
    }
   ],
   "source": [
    "x = 1.0 # this is just an example\n",
    "\n",
    "p = a[0] +a[1]*x +a[2]*x**2\n",
    "p"
   ]
  },
  {
   "cell_type": "markdown",
   "metadata": {},
   "source": [
    "Alternatively, we can write"
   ]
  },
  {
   "cell_type": "code",
   "execution_count": 20,
   "metadata": {},
   "outputs": [
    {
     "data": {
      "text/plain": [
       "0.4795874903689934"
      ]
     },
     "execution_count": 20,
     "metadata": {},
     "output_type": "execute_result"
    }
   ],
   "source": [
    "q = 0.0\n",
    "\n",
    "for i in range(3):\n",
    "    q = q + a[i]*x**i\n",
    "    \n",
    "q"
   ]
  },
  {
   "cell_type": "markdown",
   "metadata": {},
   "source": [
    "Suppose we want to evaluate a polynomial with a coefficient vector $a \\in \\mathbb{R}^n$ at $x \\in \\mathbb{R}$, i.e.\n",
    "\n",
    "$$ P(x,a) = \\sum_{i=0}^{n-1} a_i x^i. $$\n",
    "\n",
    "**Exercise:** Generalize the above code to a general n case, pretending that you do not know n. (Use len() function to calculate the length of vector a.)"
   ]
  },
  {
   "cell_type": "code",
   "execution_count": null,
   "metadata": {
    "collapsed": true
   },
   "outputs": [],
   "source": [
    "n = 10\n",
    "a = np.random.randn(n)\n",
    "\n",
    "# Write the answer below\n"
   ]
  },
  {
   "cell_type": "markdown",
   "metadata": {},
   "source": [
    "Now we define the function that evaluate an n-th order polynomial with coefficient vector $a \\in \\mathbb{R}^n$ at point $x \\in \\mathbb{R}$."
   ]
  },
  {
   "cell_type": "code",
   "execution_count": null,
   "metadata": {
    "collapsed": true
   },
   "outputs": [],
   "source": [
    "def eval_poly(x,a):\n",
    "   \n",
    "    # fill the rest...\n",
    "    \n",
    "    \n"
   ]
  },
  {
   "cell_type": "markdown",
   "metadata": {},
   "source": [
    "Let's test your function:"
   ]
  },
  {
   "cell_type": "code",
   "execution_count": null,
   "metadata": {
    "collapsed": true
   },
   "outputs": [],
   "source": [
    "y = eval_poly(0.0, a)\n",
    "y"
   ]
  },
  {
   "cell_type": "markdown",
   "metadata": {},
   "source": [
    "## Local and global scope\n",
    "\n",
    "\"Parameters and variables that are assigned in a called function are said to exist in that function’s local scope. Variables that are assigned outside all functions are said to exist in the global scope. A variable that exists in a local scope is called a local variable, while a variable that exists in the global scope is called a global variable. A variable must be one or the other; it cannot be both local and global.\" <https://automatetheboringstuff.com/chapter3/>\n",
    "\n",
    "\"Scopes matter for several reasons:\n",
    "\n",
    "- Code in the global scope cannot use any local variables.\n",
    "\n",
    "- However, a local scope can access global variables.\n",
    "\n",
    "- Code in a function’s local scope cannot use variables in any other local scope.\n",
    "\n",
    "- You can use the same name for different variables if they are in different scopes. That is, there can be a local variable named spam and a global variable also named spam.\"  <https://automatetheboringstuff.com/chapter3>\n",
    "\n"
   ]
  },
  {
   "cell_type": "markdown",
   "metadata": {},
   "source": [
    "Let's confirm these properties. First, try to print the local variables for the function example_func() as follows:"
   ]
  },
  {
   "cell_type": "code",
   "execution_count": null,
   "metadata": {
    "collapsed": true
   },
   "outputs": [],
   "source": [
    "x = 10\n",
    "y = 2\n",
    "\n",
    "def example_func(x1,x2):\n",
    "    a = x1+x2\n",
    "    s = x1-x2\n",
    "    return a,s \n",
    "\n",
    "sum_xy, sub_xy = example_func(x,y)\n",
    "\n",
    "print((sum_xy,sub_xy))\n",
    "\n",
    "print((a,s))"
   ]
  },
  {
   "cell_type": "markdown",
   "metadata": {},
   "source": [
    "Variables a and s are defined in the local scope of the function example_func(). It is not accessible from the global scope. \n",
    "\n",
    "Consider the following example:"
   ]
  },
  {
   "cell_type": "code",
   "execution_count": 21,
   "metadata": {},
   "outputs": [
    {
     "name": "stdout",
     "output_type": "stream",
     "text": [
      "(12.0, 8.0)\n",
      "(10.0, 2)\n"
     ]
    }
   ],
   "source": [
    "x = 10.0\n",
    "y = 2\n",
    "\n",
    "def example_func_2(x1,x2):\n",
    "    x = x1+x2\n",
    "    y = x1-x2\n",
    "    return x,y \n",
    "\n",
    "sum_xy, sub_xy = example_func_2(x,y)\n",
    "\n",
    "print((sum_xy,sub_xy))\n",
    "print((x,y))"
   ]
  },
  {
   "cell_type": "markdown",
   "metadata": {},
   "source": [
    "Here x and y are used both in the global and the local scopes. Importantly, they mean different things in two scopes. Although (x,y) are assigned some other values in the local scope, (x,y) in the global scope are not altered by that. \n",
    "\n",
    "Using the _global_ statement, we can modify the global variables in the local scope (see  <https://automatetheboringstuff.com/chapter3/>). However I do not recommend that because it can create a great deal of confusion. (In particular, it is hard for others to understand what is going on in your code.) If you want to modify a global variable using a function, do as in the following example:"
   ]
  },
  {
   "cell_type": "code",
   "execution_count": null,
   "metadata": {
    "collapsed": true
   },
   "outputs": [],
   "source": [
    "x = 1.0\n",
    "\n",
    "def add_one(a):\n",
    "    return a+1\n",
    "\n",
    "x = add_one(x)\n",
    "\n",
    "print(x)"
   ]
  },
  {
   "cell_type": "markdown",
   "metadata": {},
   "source": [
    "An example of the local scope accessing to global variables is the following:"
   ]
  },
  {
   "cell_type": "code",
   "execution_count": null,
   "metadata": {
    "collapsed": true
   },
   "outputs": [],
   "source": [
    "import math\n",
    "\n",
    "x = 10.0\n",
    "e = 1e-8\n",
    "\n",
    "def log_deriv(x,e):\n",
    "    return (math.log(x+e)-math.log(x))/e\n",
    "\n",
    "log_deriv(x,e)"
   ]
  },
  {
   "cell_type": "markdown",
   "metadata": {},
   "source": [
    "The log_deriv() function itself does not import math, but it is accessing a method attached to an object \"math\", which is imported in the global scope. (Local scopes can access to global variables.)"
   ]
  },
  {
   "cell_type": "markdown",
   "metadata": {},
   "source": [
    "## Exception handling\n",
    "\n",
    "So far we have seen that an entire program stops when it gets an error. There is a way to have the program catch an error but nonetheless continue to run. See the \"Exception Handling\" section in <https://automatetheboringstuff.com/chapter3/>.\n",
    "\n",
    "For example, in the log_deriv function, one can pass a negative number as x:"
   ]
  },
  {
   "cell_type": "code",
   "execution_count": null,
   "metadata": {
    "collapsed": true
   },
   "outputs": [],
   "source": [
    "log_deriv(-1.0,1e-8)"
   ]
  },
  {
   "cell_type": "markdown",
   "metadata": {},
   "source": [
    "We get \"ValueError\" because the log function in the math module does not permit a negative input."
   ]
  },
  {
   "cell_type": "code",
   "execution_count": 22,
   "metadata": {},
   "outputs": [
    {
     "name": "stdout",
     "output_type": "stream",
     "text": [
      "None\n"
     ]
    }
   ],
   "source": [
    "def log_deriv_3(x,e):\n",
    "    try:\n",
    "        return (math.log(x+e)-math.log(x))/e\n",
    "    except ValueError:\n",
    "        return None\n",
    "\n",
    "y = log_deriv_3(-1.0,1e-8)\n",
    "\n",
    "print(y)"
   ]
  }
 ],
 "metadata": {
  "kernelspec": {
   "display_name": "Python 3",
   "language": "python",
   "name": "python3"
  },
  "language_info": {
   "codemirror_mode": {
    "name": "ipython",
    "version": 3
   },
   "file_extension": ".py",
   "mimetype": "text/x-python",
   "name": "python",
   "nbconvert_exporter": "python",
   "pygments_lexer": "ipython3",
   "version": "3.7.0"
  }
 },
 "nbformat": 4,
 "nbformat_minor": 2
}
