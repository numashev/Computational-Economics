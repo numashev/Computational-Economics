{
 "cells": [
  {
   "cell_type": "markdown",
   "metadata": {},
   "source": [
    "# Python programming basics part 2: Scripting and flow control"
   ]
  },
  {
   "cell_type": "markdown",
   "metadata": {},
   "source": [
    "## Python script\n",
    "\n",
    "Instead of using Jupyter notebook, let us try writing a Python script. \n",
    "\n",
    "Go back to the Jupyter home, and choose New > Text File.\n",
    "\n",
    "In the following cell is an example taken from <https://automatetheboringstuff.com/chapter1/>. Cut and paste it to the file you just created, and save it as \"hello.py\".\n",
    "\n",
    "In Terminal (os x) or Anaconda command prompt (Windows), navigate to the folder in which hello.py is saved, and execute:\n",
    "\n",
    "python hello.py\n",
    "\n",
    "That will ask your input twice. Enter your answers and see what happens."
   ]
  },
  {
   "cell_type": "code",
   "execution_count": null,
   "metadata": {},
   "outputs": [],
   "source": [
    "# This program says hello and asks for my name.\n",
    "\n",
    "print('Hello world!')\n",
    "print('What is your name?')\n",
    "myName = input()\n",
    "\n",
    "print('It is good to meet you, ' + myName)\n",
    "print('The length of your name is:')\n",
    "print(len(myName))\n",
    "\n",
    "print()\n",
    "print('What is your age?')\n",
    "myAge = input()\n",
    "print('You will be ' + str(int(myAge)+1) + ' in a year.')\n"
   ]
  },
  {
   "cell_type": "markdown",
   "metadata": {},
   "source": [
    "## Flow control\n",
    "\n",
    "Sometimes we may want to execute a certain command only when a certain condition is satisfied. We may also want to keep executing a certain command as long as a certain condition is satisfied. \n",
    "\n",
    "Here we study _if statement_ and _while loop statement_. See also <https://automatetheboringstuff.com/chapter2/>, from which some examples below are taken. \n"
   ]
  },
  {
   "cell_type": "markdown",
   "metadata": {},
   "source": [
    "### If statements\n",
    "\n",
    "An if statement in Python looks as follows:\n",
    "\n",
    "if _condition_:\n",
    "\n",
    "    _command_\n",
    "\n",
    "_condition_ here must evaluate down to a Boolean value, i.e. True or False.\n",
    "\n",
    "We have to have a colon at the end of the first line, and from the second line, an indent must be placed. The indented block of codes is called the \"if clause\".\n",
    "\n",
    "Unlike in Matlab, we do not write \"end\" to close the statement.\n",
    "\n",
    "Here is an example:"
   ]
  },
  {
   "cell_type": "code",
   "execution_count": 2,
   "metadata": {
    "collapsed": true
   },
   "outputs": [],
   "source": [
    "name = 'Bob'\n",
    "\n",
    "if name == 'Alice':\n",
    "    print('Hi, Alice.')\n"
   ]
  },
  {
   "cell_type": "markdown",
   "metadata": {},
   "source": [
    "Assign 'Alice' to name and see what happens."
   ]
  },
  {
   "cell_type": "markdown",
   "metadata": {},
   "source": [
    "You can also speficy the commands to execute when the condition is false, using the _else statements_. \n",
    "\n"
   ]
  },
  {
   "cell_type": "code",
   "execution_count": 7,
   "metadata": {},
   "outputs": [
    {
     "name": "stdout",
     "output_type": "stream",
     "text": [
      "Hello, stranger.\n"
     ]
    }
   ],
   "source": [
    "name = 'Bob'\n",
    "\n",
    "if name == 'Alice':\n",
    "    print('Hi, Alice.')\n",
    "else:\n",
    "    print('Hello, stranger.')    "
   ]
  },
  {
   "cell_type": "markdown",
   "metadata": {},
   "source": [
    "In the above case, either one of the two clauses --- if-clause and else-clause --- is executed. \n",
    "\n",
    "We can use the _elif statements_ (\"else if\") for a case where you want to execute one of many possible clauses.\n"
   ]
  },
  {
   "cell_type": "code",
   "execution_count": 8,
   "metadata": {},
   "outputs": [
    {
     "name": "stdout",
     "output_type": "stream",
     "text": [
      "You are not Alice, kiddo.\n"
     ]
    }
   ],
   "source": [
    "name = 'Bob'\n",
    "age = 5\n",
    "if name == 'Alice':\n",
    "    print('Hi, Alice.')\n",
    "elif age < 12:\n",
    "    print('You are not Alice, kiddo.')\n",
    "    "
   ]
  },
  {
   "cell_type": "markdown",
   "metadata": {},
   "source": [
    "Note that, in the above example, if name is not 'Alice' and age is bigger than or equal to 12, nothing will be printed, i.e. neither clause is executed."
   ]
  },
  {
   "cell_type": "code",
   "execution_count": 1,
   "metadata": {},
   "outputs": [
    {
     "name": "stdout",
     "output_type": "stream",
     "text": [
      "Unlike you, Alice is not an undead, immortal vampire.\n"
     ]
    }
   ],
   "source": [
    "name = 'Dracula'\n",
    "age = 4000\n",
    "if name == 'Alice':\n",
    "    print('Hi, Alice.')\n",
    "elif age < 12:\n",
    "    print('You are not Alice, kiddo.')\n",
    "elif age > 2000:\n",
    "    print('Unlike you, Alice is not an undead, immortal vampire.')\n",
    "elif age > 100:\n",
    "    print('You are not Alice, grannie.')"
   ]
  },
  {
   "cell_type": "markdown",
   "metadata": {},
   "source": [
    "In this example, age is set to 4000, so both (age >2000) and (age>100) are satisfied.\n",
    "\n",
    "However, only the elif-clause for condition (age >2000) is executed.\n",
    "\n",
    "Why? It is because once one of the condition is found to be true, the remaining elif statements are skipped. \n",
    "\n",
    "Hence the order of the elif clauses can matter. By changing the order of the last and the second-to-last clauses, the (age>100) condition is evaluated first:"
   ]
  },
  {
   "cell_type": "code",
   "execution_count": 2,
   "metadata": {},
   "outputs": [
    {
     "name": "stdout",
     "output_type": "stream",
     "text": [
      "You are not Alice, grannie.\n"
     ]
    }
   ],
   "source": [
    "name = 'Dracula'\n",
    "age = 4000\n",
    "if name == 'Alice':\n",
    "    print('Hi, Alice.')\n",
    "elif age < 12:\n",
    "    print('You are not Alice, kiddo.')\n",
    "elif age > 100:\n",
    "    print('You are not Alice, grannie.')\n",
    "elif age > 2000:\n",
    "    print('Unlike you, Alice is not an undead, immortal vampire.')"
   ]
  },
  {
   "cell_type": "markdown",
   "metadata": {},
   "source": [
    "But then, the last clause is never executed! (Whenever age>2000 is true, age>100 is also true.)"
   ]
  },
  {
   "cell_type": "markdown",
   "metadata": {},
   "source": [
    "Finally, you can use the else statement along with the elif statements:"
   ]
  },
  {
   "cell_type": "code",
   "execution_count": 3,
   "metadata": {},
   "outputs": [
    {
     "name": "stdout",
     "output_type": "stream",
     "text": [
      "You are neither Alice nor a little kid.\n"
     ]
    }
   ],
   "source": [
    "name = 'Bob'\n",
    "age = 30\n",
    "if name == 'Alice':\n",
    "    print('Hi, Alice.')\n",
    "elif age < 12:\n",
    "    print('You are not Alice, kiddo.')\n",
    "else:\n",
    "    print('You are neither Alice nor a little kid.')"
   ]
  },
  {
   "cell_type": "markdown",
   "metadata": {},
   "source": [
    "### While loop statements\n",
    "\n",
    "A while loop statement in Python looks exactly like the if statement:\n",
    "\n",
    "while _condition_:\n",
    "\n",
    "    _command_\n",
    "\n",
    "Their behaviours are different. At the end of the while-clause, the program goes back to the beginning of the while statement. \n"
   ]
  },
  {
   "cell_type": "code",
   "execution_count": 12,
   "metadata": {},
   "outputs": [
    {
     "name": "stdout",
     "output_type": "stream",
     "text": [
      "Hello, world.\n",
      "Hello, world.\n",
      "Hello, world.\n",
      "Hello, world.\n",
      "Hello, world.\n"
     ]
    }
   ],
   "source": [
    "spam = 0\n",
    "while spam < 5:\n",
    "    print('Hello, world.')\n",
    "    spam += 1"
   ]
  },
  {
   "cell_type": "code",
   "execution_count": 13,
   "metadata": {},
   "outputs": [
    {
     "name": "stdout",
     "output_type": "stream",
     "text": [
      "5\n"
     ]
    }
   ],
   "source": [
    "print(spam)"
   ]
  },
  {
   "cell_type": "markdown",
   "metadata": {},
   "source": [
    "### Break and continue statements\n",
    "\n",
    "The break statement forces the program out of the while statement.\n",
    "\n",
    "The continue statement forces the program to jump back at the beginning of the while statement. \n",
    "\n",
    "How can we use it? \n"
   ]
  },
  {
   "cell_type": "code",
   "execution_count": null,
   "metadata": {
    "collapsed": true
   },
   "outputs": [],
   "source": [
    "# An example with the break statement\n",
    "\n",
    "spam = 0\n",
    "while True: # infinite loop!\n",
    "    print('Hello, world.')\n",
    "    spam += 1\n",
    "    if spam >= 5:\n",
    "        break"
   ]
  },
  {
   "cell_type": "code",
   "execution_count": null,
   "metadata": {
    "collapsed": true
   },
   "outputs": [],
   "source": [
    "# A rather contrived example with the continue statement\n",
    "\n",
    "spam = 0\n",
    "while True: # infinite loop!\n",
    "    print('Hello, world.')\n",
    "    spam += 1\n",
    "    if spam < 5:\n",
    "        continue\n",
    "    \n",
    "    print(spam)\n",
    "    break"
   ]
  },
  {
   "cell_type": "markdown",
   "metadata": {},
   "source": [
    "### For loop statements\n",
    "\n",
    "In the above 'Hello, world.\" example, we are effectively repeating the print command for five times. There is an equivalent way to write it using the for loop statements:"
   ]
  },
  {
   "cell_type": "code",
   "execution_count": null,
   "metadata": {
    "collapsed": true
   },
   "outputs": [],
   "source": [
    "for i in range(5):\n",
    "    print('Hello, world.')"
   ]
  },
  {
   "cell_type": "markdown",
   "metadata": {},
   "source": [
    "To see what happens within the for clause, let's modify it as follows:"
   ]
  },
  {
   "cell_type": "code",
   "execution_count": null,
   "metadata": {
    "collapsed": true
   },
   "outputs": [],
   "source": [
    "for i in range(5):\n",
    "    print('Hello, world.'+' Five times (' +str(i)+')')"
   ]
  },
  {
   "cell_type": "markdown",
   "metadata": {},
   "source": [
    "At the beginning of the for statement, the variable i is initialized to 0 in the first run.\n",
    "\n",
    "Then the for-clause is executed, and at the end of the clause the program jumps back to the beginning of the for-statement, and the variable i is increased by 1. range(5) creates a sequence of numbers from 0 to 4. Once i reaches the end of this sequence, the for-clause does not come back to the beginning of the statement.\n",
    "\n",
    "Instead of the range function, we can use a list:"
   ]
  },
  {
   "cell_type": "code",
   "execution_count": null,
   "metadata": {
    "collapsed": true
   },
   "outputs": [],
   "source": [
    "for i in [0,1,2,3,4]:\n",
    "    print('Hello, world.'+' Five times (' +str(i)+')')"
   ]
  },
  {
   "cell_type": "markdown",
   "metadata": {},
   "source": [
    "Indeed, the list does not have to be that of integers. See the following example:"
   ]
  },
  {
   "cell_type": "code",
   "execution_count": null,
   "metadata": {
    "collapsed": true
   },
   "outputs": [],
   "source": [
    "fruit_list = ['apple', 'orange', 'banana', 'pear', 'strawberry']\n",
    "\n",
    "for name in fruit_list:\n",
    "    print(name)"
   ]
  },
  {
   "cell_type": "markdown",
   "metadata": {},
   "source": [
    "For more information about the range function, see <https://automatetheboringstuff.com/chapter2/>."
   ]
  },
  {
   "cell_type": "markdown",
   "metadata": {},
   "source": [
    "The break and the continue statements can be used within the for clause."
   ]
  },
  {
   "cell_type": "code",
   "execution_count": null,
   "metadata": {
    "collapsed": true
   },
   "outputs": [],
   "source": [
    "for i in range(4):\n",
    "    print('Hello, world.'+' Five times (' +str(i)+')')\n",
    "    if i == 2:\n",
    "        break"
   ]
  }
 ],
 "metadata": {
  "kernelspec": {
   "display_name": "Python 3",
   "language": "python",
   "name": "python3"
  },
  "language_info": {
   "codemirror_mode": {
    "name": "ipython",
    "version": 3
   },
   "file_extension": ".py",
   "mimetype": "text/x-python",
   "name": "python",
   "nbconvert_exporter": "python",
   "pygments_lexer": "ipython3",
   "version": "3.7.0"
  }
 },
 "nbformat": 4,
 "nbformat_minor": 2
}
