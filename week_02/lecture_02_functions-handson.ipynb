{
 "cells": [
  {
   "cell_type": "markdown",
   "metadata": {},
   "source": [
    "## Hands-on practice: polynomial evaluation\n",
    "\n",
    "Answers are added. \n",
    "\n",
    "** It seems that I removed the following import statement in the lecture notebook. Please include it.**"
   ]
  },
  {
   "cell_type": "code",
   "execution_count": null,
   "metadata": {
    "collapsed": true
   },
   "outputs": [],
   "source": [
    "import numpy as np"
   ]
  },
  {
   "cell_type": "code",
   "execution_count": 2,
   "metadata": {},
   "outputs": [
    {
     "data": {
      "text/plain": [
       "array([-0.69812696,  0.1592834 ,  1.07035242])"
      ]
     },
     "execution_count": 2,
     "metadata": {},
     "output_type": "execute_result"
    }
   ],
   "source": [
    "n = 3\n",
    "\n",
    "a = np.random.randn(n)\n",
    "a"
   ]
  },
  {
   "cell_type": "markdown",
   "metadata": {},
   "source": [
    "Below is the code that is specific to n=3 case."
   ]
  },
  {
   "cell_type": "code",
   "execution_count": 5,
   "metadata": {},
   "outputs": [
    {
     "data": {
      "text/plain": [
       "0.53150885740233367"
      ]
     },
     "execution_count": 5,
     "metadata": {},
     "output_type": "execute_result"
    }
   ],
   "source": [
    "q = 0.0\n",
    "\n",
    "for i in range(3):\n",
    "    q = q + a[i]*x**i\n",
    "    \n",
    "q"
   ]
  },
  {
   "cell_type": "markdown",
   "metadata": {},
   "source": [
    "Suppose we want to evaluate a polynomial with a coefficient vector $a \\in \\mathbb{R}^n$ at $x \\in \\mathbb{R}$, i.e.\n",
    "\n",
    "$$ P(x,a) = \\sum_{i=0}^{n-1} a_i x^i. $$\n",
    "\n",
    "**Exercise:** Generalize the above code to a general n case, pretending that you do not know n. (Use len() function to calculate the length of vector a.)"
   ]
  },
  {
   "cell_type": "code",
   "execution_count": 17,
   "metadata": {},
   "outputs": [
    {
     "data": {
      "text/plain": [
       "-3.9244972781466245"
      ]
     },
     "execution_count": 17,
     "metadata": {},
     "output_type": "execute_result"
    }
   ],
   "source": [
    "n = 10\n",
    "a = np.random.randn(n)\n",
    "\n",
    "# Write the answer below\n",
    "q = 0.0\n",
    "\n",
    "for i in range(len(a)):\n",
    "    \n",
    "    q = q + a[i]*x**i\n",
    "    \n",
    "q\n"
   ]
  },
  {
   "cell_type": "markdown",
   "metadata": {},
   "source": [
    "Alternatively, using the _enumerate()_ function <http://book.pythontips.com/en/latest/enumerate.html>,"
   ]
  },
  {
   "cell_type": "code",
   "execution_count": 19,
   "metadata": {},
   "outputs": [
    {
     "data": {
      "text/plain": [
       "-3.9244972781466245"
      ]
     },
     "execution_count": 19,
     "metadata": {},
     "output_type": "execute_result"
    }
   ],
   "source": [
    "q = 0.0\n",
    "\n",
    "for counter, coef in enumerate(a):\n",
    "    \n",
    "    q = q + coef*x**counter\n",
    "    \n",
    "q"
   ]
  },
  {
   "cell_type": "markdown",
   "metadata": {},
   "source": [
    "As we saw, if we do \n",
    "\n",
    "for coef in a:\n",
    "    .....\n",
    "\n",
    "then the loop is over an array _a_, but to calculate the power of x we need to know the position (index) of coef in _a_.\n",
    "\n",
    "The enumerate() function basically returns a sequence of tuples where the first element is the index. "
   ]
  },
  {
   "cell_type": "markdown",
   "metadata": {},
   "source": [
    "Now we define the function that evaluate an n-th order polynomial with coefficient vector $a \\in \\mathbb{R}^n$ at point $x \\in \\mathbb{R}$."
   ]
  },
  {
   "cell_type": "code",
   "execution_count": 9,
   "metadata": {
    "collapsed": true
   },
   "outputs": [],
   "source": [
    "def eval_poly(x,a):\n",
    "   \n",
    "    # fill the rest...\n",
    "    \n",
    "    q = 0.0\n",
    "    for i in range(len(a)):    \n",
    "        q = q + a[i]*x**i\n",
    "    \n",
    "    return q    \n"
   ]
  },
  {
   "cell_type": "markdown",
   "metadata": {},
   "source": [
    "Let's test your function:"
   ]
  },
  {
   "cell_type": "code",
   "execution_count": 12,
   "metadata": {},
   "outputs": [
    {
     "data": {
      "text/plain": [
       "1.7071233063822362"
      ]
     },
     "execution_count": 12,
     "metadata": {},
     "output_type": "execute_result"
    }
   ],
   "source": [
    "y = eval_poly(x, a)\n",
    "y"
   ]
  }
 ],
 "metadata": {
  "kernelspec": {
   "display_name": "Python 3",
   "language": "python",
   "name": "python3"
  },
  "language_info": {
   "codemirror_mode": {
    "name": "ipython",
    "version": 3
   },
   "file_extension": ".py",
   "mimetype": "text/x-python",
   "name": "python",
   "nbconvert_exporter": "python",
   "pygments_lexer": "ipython3",
   "version": "3.7.0"
  }
 },
 "nbformat": 4,
 "nbformat_minor": 2
}
