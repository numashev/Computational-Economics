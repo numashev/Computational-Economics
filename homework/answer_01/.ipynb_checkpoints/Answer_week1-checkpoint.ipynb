{
 "cells": [
  {
   "cell_type": "markdown",
   "metadata": {},
   "source": [
    "# Week 1 assignment model answers"
   ]
  },
  {
   "cell_type": "code",
   "execution_count": null,
   "metadata": {
    "collapsed": true
   },
   "outputs": [],
   "source": [
    "%reset"
   ]
  },
  {
   "cell_type": "markdown",
   "metadata": {
    "collapsed": true
   },
   "source": [
    "Execute the above cell to clear memory."
   ]
  },
  {
   "cell_type": "code",
   "execution_count": null,
   "metadata": {
    "collapsed": true
   },
   "outputs": [],
   "source": [
    "import numpy as np"
   ]
  },
  {
   "cell_type": "markdown",
   "metadata": {},
   "source": [
    "## Q1"
   ]
  },
  {
   "cell_type": "code",
   "execution_count": null,
   "metadata": {
    "collapsed": true
   },
   "outputs": [],
   "source": [
    "def poly_eval(x, coef):\n",
    "\n",
    "    # poly_eval(x,coef) evaluate a one dimensional polynomial with coefficient _coef_ at point _x_.\n",
    "    # For i=0,1,..., coef[i] is the coefficient on x^i.\n",
    "    \n",
    "    P = 0.0\n",
    "    for coef in coef[::-1]:\n",
    "        P = coef+P*x\n",
    "    return P\n",
    "\n",
    "\n",
    "# test the behavior of the function\n",
    "\n",
    "p_coef = [1.0, 2.0, 3.0] \n",
    "\n",
    "x = 2.0\n",
    "\n",
    "y = poly_eval(x,p_coef)\n",
    "\n",
    "print('My result:')\n",
    "print(y)\n",
    "\n",
    "# compare the result with the numpy result\n",
    "poly = np.poly1d(p_coef[::-1])  # here the coefficient vector is ordered from the highest exponents.\n",
    "print('numpy.poly1d result:')\n",
    "print(poly(x))\n"
   ]
  },
  {
   "cell_type": "markdown",
   "metadata": {},
   "source": [
    "See [https://docs.scipy.org/doc/numpy/reference/generated/numpy.poly1d.html] for more about numpy.poly1d."
   ]
  },
  {
   "cell_type": "markdown",
   "metadata": {},
   "source": [
    "## Q2"
   ]
  },
  {
   "cell_type": "code",
   "execution_count": null,
   "metadata": {
    "collapsed": true
   },
   "outputs": [],
   "source": [
    "print('Enter a number:')\n",
    "x = input()\n",
    "\n",
    "x = float(x)\n",
    "if x % 2 ==0 and x>=0:\n",
    "    print(str(int(x))+' is a positive even number.')\n",
    "elif x % 2 == 1 and x>=0:\n",
    "    print(str(int(x))+' is a positive odd number.')\n",
    "else:\n",
    "    print(str(x)+' is either negative or non-integer.')\n"
   ]
  },
  {
   "cell_type": "markdown",
   "metadata": {},
   "source": [
    "## Q3"
   ]
  },
  {
   "cell_type": "code",
   "execution_count": null,
   "metadata": {
    "collapsed": true
   },
   "outputs": [],
   "source": [
    "print('Enter a number:')\n",
    "x = input()\n",
    "\n",
    "try:\n",
    "    x = float(x)\n",
    "    if x % 2 ==0 and x>=0:\n",
    "        print(str(int(x))+' is a positive even number.')\n",
    "    elif x % 2 == 1 and x>=0:\n",
    "        print(str(int(x))+' is a positive odd number.')\n",
    "    else:\n",
    "        print(str(x)+' is either negative or non-integer.')\n",
    "except ValueError:\n",
    "    print(x +' is not a number')\n"
   ]
  },
  {
   "cell_type": "markdown",
   "metadata": {},
   "source": [
    "## Q4"
   ]
  },
  {
   "cell_type": "code",
   "execution_count": null,
   "metadata": {},
   "outputs": [],
   "source": [
    "xtol = 1e-7\n",
    "\n",
    "x0 = 5.0\n",
    "dx = xtol+1.0\n",
    "\n",
    "max_iter = 1000\n",
    "i_iter = 0\n",
    "\n",
    "while abs(dx)>xtol and i_iter<=max_iter:\n",
    "    xp = 1.0+1.0/x0\n",
    "    dx = xp-x0\n",
    "    \n",
    "    print(' Iteration step n = ' + str(i_iter) +', x[n+1] =' +str(xp))\n",
    "    \n",
    "    i_iter += 1\n",
    "    x0 = xp    \n"
   ]
  },
  {
   "cell_type": "markdown",
   "metadata": {},
   "source": [
    "## Q5"
   ]
  },
  {
   "cell_type": "code",
   "execution_count": null,
   "metadata": {},
   "outputs": [],
   "source": [
    "import numpy as np\n",
    "\n",
    "N = 5\n",
    "\n",
    "# initialization\n",
    "Tmat = np.zeros((N+1,N+1))\n",
    "\n",
    "# fill the first two rows\n",
    "Tmat[0,0] = 1.0\n",
    "Tmat[1,1] = 1.0\n",
    "\n",
    "# recursion to compute the remaining rows\n",
    "for i in range(2,N+1):\n",
    "    Tmat[i,:] = -Tmat[i-2,:]\n",
    "    Tmat[i,1:] += 2.0*Tmat[i-1,:-1]\n",
    "\n",
    "np.set_printoptions(suppress=True) # coefficients are integers, so I surpress small floating point values when displaying\n",
    "print(Tmat)"
   ]
  }
 ],
 "metadata": {
  "anaconda-cloud": {},
  "kernelspec": {
   "display_name": "Python 3",
   "language": "python",
   "name": "python3"
  },
  "language_info": {
   "codemirror_mode": {
    "name": "ipython",
    "version": 3
   },
   "file_extension": ".py",
   "mimetype": "text/x-python",
   "name": "python",
   "nbconvert_exporter": "python",
   "pygments_lexer": "ipython3",
   "version": "3.5.3"
  }
 },
 "nbformat": 4,
 "nbformat_minor": 2
}
