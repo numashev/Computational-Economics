{
 "cells": [
  {
   "cell_type": "code",
   "execution_count": 2,
   "metadata": {
    "collapsed": true
   },
   "outputs": [],
   "source": [
    "import numpy as np\n",
    "import matplotlib.pyplot as plt"
   ]
  },
  {
   "cell_type": "code",
   "execution_count": 6,
   "metadata": {
    "collapsed": true
   },
   "outputs": [],
   "source": [
    "x = np.array([1,2,3])\n",
    "#x.shape = (3,1)\n",
    "\n",
    "x1,x2,x3 = x"
   ]
  },
  {
   "cell_type": "code",
   "execution_count": 7,
   "metadata": {},
   "outputs": [
    {
     "data": {
      "text/plain": [
       "1"
      ]
     },
     "execution_count": 7,
     "metadata": {},
     "output_type": "execute_result"
    }
   ],
   "source": [
    "x1"
   ]
  },
  {
   "cell_type": "markdown",
   "metadata": {},
   "source": [
    "# Q1\n",
    "\n",
    "First we define a test function:"
   ]
  },
  {
   "cell_type": "code",
   "execution_count": 8,
   "metadata": {
    "collapsed": true
   },
   "outputs": [],
   "source": [
    "\n",
    "x0 = np.reshape(np.array([1.0, 1.4]),(2,1))\n",
    "\n",
    "\n",
    "test = lambda x: np.reshape(np.array([x[0,0]**2-x[0,0]-1.0, np.log(3.0*x[1,0]**2-x[0,0])]),(2,1))\n",
    "\n",
    "gtest = lambda x: np.array([ [2.0*x[0,0]-1.0, 0.0],\n",
    "                             [-1./(x[1,0]**2-x[0,0]), 6.0*x[1,0]/(3.0*x[1,0]**2-x[0,0])]])\n"
   ]
  },
  {
   "cell_type": "markdown",
   "metadata": {},
   "source": [
    "Here I define them so that they take an np.array as input and return np.array as output. Hence, I take it for granted that both f and g are np.array-valued functions in the Newton-Raphson method routine below. However, as you can see, the definition of the functions are not very cute. \n",
    "\n",
    "An alternative approach would be to allow these functions to be \"array-like\"-valued, and then define the Newton-Raphson routine so that it convert them into np.array's. \n",
    "\n"
   ]
  },
  {
   "cell_type": "code",
   "execution_count": 9,
   "metadata": {
    "collapsed": true
   },
   "outputs": [],
   "source": [
    "def NRmethodm(f,g,x0, xtol=1e-6, ftol=1e-6, max_iter=1000):\n",
    "    \n",
    "    # Newton-Raphson method for a vector-valued function\n",
    "    # f: function\n",
    "    # g: Jacobian function\n",
    "    # x0: initial condition\n",
    "    \n",
    "    x, fx, gx = x0, f(x0), g(x0)\n",
    "    \n",
    "    xp = np.empty_like(x)\n",
    "    \n",
    "    i_iter = 0\n",
    "    \n",
    "\n",
    "    while i_iter<=max_iter:\n",
    "        i_iter += 1\n",
    "        \n",
    "        dx = - np.linalg.solve(gx,fx)\n",
    "        xp = x+dx\n",
    "        \n",
    "        x[:], fx[:], gx[:] = xp, f(xp), g(xp)        \n",
    "        \n",
    "        print('Iteration step n = ' + str(i_iter) + ', x[n+1] (transposed) = ' + str(x.T))\n",
    "        \n",
    "        if np.linalg.norm(dx,np.inf) <= xtol*(1+np.linalg.norm(x,np.inf)):\n",
    "            break\n",
    "\n",
    "    if i_iter == max_iter:\n",
    "        print('Max. number of iteration reached. A solution may not be accurate.')\n",
    "        return x\n",
    "    elif np.linalg.norm(fx,np.inf)<=ftol: \n",
    "        print('Newton-Raphson method converged.')\n",
    "        return x\n",
    "    else:\n",
    "        print('Newton-Raphson method failed to find a solution.')\n",
    "        return x\n",
    "   "
   ]
  },
  {
   "cell_type": "code",
   "execution_count": 10,
   "metadata": {},
   "outputs": [
    {
     "name": "stdout",
     "output_type": "stream",
     "text": [
      "Iteration step n = 1, x[n+1] (transposed) = [[ 2.          1.08426484]]\n",
      "Iteration step n = 2, x[n+1] (transposed) = [[ 1.66666667  1.07983264]]\n",
      "Iteration step n = 3, x[n+1] (transposed) = [[ 1.61904762  0.93567165]]\n",
      "Iteration step n = 4, x[n+1] (transposed) = [[ 1.61803445  0.93459376]]\n",
      "Iteration step n = 5, x[n+1] (transposed) = [[ 1.61803399  0.93417215]]\n",
      "Iteration step n = 6, x[n+1] (transposed) = [[ 1.61803399  0.93417236]]\n",
      "Newton-Raphson method converged.\n",
      "\n",
      "Evaluate the test function at the computed solution. (Transposed)\n",
      "[[  0.00000000e+00  -3.40172335e-13]]\n"
     ]
    }
   ],
   "source": [
    "sol = NRmethodm(test,gtest,x0)\n",
    "\n",
    "print('')\n",
    "print('Evaluate the test function at the computed solution. (Transposed)')\n",
    "print(test(sol).T)"
   ]
  },
  {
   "cell_type": "markdown",
   "metadata": {},
   "source": [
    "# Q2\n",
    "\n",
    "Using the parameter values and the functional form assumptions, we can write the Euler equation as:\n",
    "\n",
    "$$ 0 = f(x; \\epsilon) := \\epsilon \\frac{1-x}{x} + (1-\\epsilon)\\frac{1-x}{\\frac{1}{1-\\epsilon}+ x}-1.$$\n",
    "\n",
    "$$ \\frac{\\partial f(x;\\epsilon)}{\\partial x} = -\\frac{\\epsilon}{x^2} - \\frac{2-\\epsilon}{(\\frac{1}{1-\\epsilon}+ x)^2}.$$\n",
    "\n",
    "We have $n=91$ values of $\\epsilon$, $\\{\\epsilon_i\\}_{i=1}^n$, and want to solve\n",
    "\n",
    "$$ 0= f(x_i;\\epsilon_i)$$\n",
    "\n",
    "for all $i=1,2,...,n$. \n",
    "\n",
    "Of course we can obtain a solution $\\{x_i\\}_{i=1}^n$ by solving a univariate root-finding problem for $n=91$ times. This is a brute-force method.\n",
    "\n",
    "One way to speed up a brute-force method is to use a solution to the $(i-1)$-th problem as the initial condition for the $i$-th problem, because we expect that solutions are close if $\\epsilon$'s are close. This is called a \"warm start\" as opposed to a \"cold-start,\" which sets the initial condition independent of previous computation results. \n",
    "\n",
    "We can, however, solve for all $\\{x_i\\}_{i=1}^n$ **at once**. Note that a Newton iterate at step $k$ for each $i$ takes the form:\n",
    "\n",
    "$$ x_i(k+1) = g_i(x_i(k)) := x_i(k) - \\frac{\\partial f(x_i(k);\\epsilon_i)}{\\partial x}f(x_i(k);\\epsilon_i).$$\n",
    "\n",
    "Hence by defining\n",
    "\n",
    "$$ \\textbf{x} = \\left[\\begin{array}{c}\n",
    "\t\t\t\tx_1\\\\\n",
    "\t\t\t\tx_2\\\\\n",
    "\t\t\t\t\\vdots\\\\\n",
    "\t\t\t\tx_n\n",
    "\t\t\t\t\\end{array}\\right],$$\n",
    "\n",
    "$$ \\textbf{e} = \\left[\\begin{array}{c}\n",
    "\t\t\t\t\\epsilon_1\\\\\n",
    "\t\t\t\t\\epsilon_2\\\\\n",
    "\t\t\t\t\\vdots\\\\\n",
    "\t\t\t\t\\epsilon_n\n",
    "\t\t\t\t\\end{array}\\right],$$\n",
    "\n",
    "and\n",
    "\n",
    "$$ G(\\mathbf{x};\\mathbf{e}) = \\left[\\begin{array}{c}\n",
    "\t\t\t\tg_1(x_1)\\\\\n",
    "\t\t\t\tg_2(x_2)\\\\\n",
    "\t\t\t\t\\vdots\\\\\n",
    "\t\t\t\tg_n(x_n)\n",
    "\t\t\t\t\\end{array}\\right],$$\n",
    "                \n",
    "we can do a fixed-point iteration for a vector-valued function $G$:\n",
    "\n",
    "$$ \\textbf{x}(k+1) = G(\\textbf{x}(k);\\mathbf{e}).$$\n"
   ]
  },
  {
   "cell_type": "code",
   "execution_count": 3,
   "metadata": {},
   "outputs": [
    {
     "name": "stdout",
     "output_type": "stream",
     "text": [
      "Time elapsed =  0.0016544379759579897  sec.\n"
     ]
    },
    {
     "data": {
      "image/png": "[encoded data removed]",
      "text/plain": [
       "<matplotlib.figure.Figure at 0x10ee27828>"
      ]
     },
     "metadata": {},
     "output_type": "display_data"
    },
    {
     "data": {
      "image/png": "[encoded data removed]",
      "text/plain": [
       "<matplotlib.figure.Figure at 0x11219d908>"
      ]
     },
     "metadata": {},
     "output_type": "display_data"
    }
   ],
   "source": [
    "import time\n",
    "\n",
    "n = 91\n",
    "eps_v = np.reshape(np.linspace(0.0,0.9,num=n), (n,1))   # vector of epsilon's\n",
    "x0 = np.zeros_like(eps_v)+0.01 # initial condition\n",
    "\n",
    "\n",
    "G = lambda x,e: x- ((-e/(x**2)-(2-e)/((1.0/(1-e)+x)**2)))**(-1)*((e*(1.0/x-1.)+(1-e)*(1.0-x)/(1.0/(1-e)+x))-1.0)\n",
    "\n",
    "\n",
    "max_iter = 1000\n",
    "xtol = 1.0e-8\n",
    "\n",
    "i_iter = 0\n",
    "\n",
    "xp = np.empty_like(x0)\n",
    "x = np.empty_like(x0)\n",
    "x[:] = x0\n",
    "\n",
    "start_time = time.perf_counter()\n",
    "\n",
    "while i_iter<=max_iter:\n",
    "    xp[:] = G(x,eps_v)\n",
    "\n",
    "    if np.linalg.norm(xp-x,np.inf) <= xtol*(1+np.linalg.norm(x,np.inf)):\n",
    "            break\n",
    "    x[:] = xp\n",
    "    i_iter += 1\n",
    "\n",
    "if i_iter == max_iter:\n",
    "    print('Max. number of iteration reached. A solution may not be accurate.')\n",
    "\n",
    "    \n",
    "end_time = time.perf_counter()\n",
    "   \n",
    "print('Time elapsed = ', end_time-start_time, ' sec.')    \n",
    "    \n",
    "fig, ax = plt.subplots()\n",
    "\n",
    "ax.plot(eps_v, x, 'b-', linewidth=1, label='Saving function')\n",
    "ax.legend(loc='upper left')\n",
    "ax.set_title('Saving function')\n",
    "\n",
    "plt.show()\n",
    "\n",
    "fig1, ax1 = plt.subplots()\n",
    "\n",
    "ax1.plot(eps_v, G(x,eps_v)-x, 'b-', linewidth=1, label='Euler equation error')\n",
    "ax1.legend(loc='upper left')\n",
    "ax1.set_title('Euler equation error')\n",
    "\n",
    "plt.show()"
   ]
  },
  {
   "cell_type": "code",
   "execution_count": 4,
   "metadata": {},
   "outputs": [
    {
     "data": {
      "text/plain": [
       "array([[  3.68439678e-17],\n",
       "       [  6.61956363e-02],\n",
       "       [  9.13252487e-02],\n",
       "       [  1.09847895e-01],\n",
       "       [  1.25000000e-01],\n",
       "       [  1.38026263e-01],\n",
       "       [  1.49560874e-01],\n",
       "       [  1.59978236e-01],\n",
       "       [  1.69520847e-01],\n",
       "       [  1.78356181e-01],\n",
       "       [  1.86605497e-01],\n",
       "       [  1.94359845e-01],\n",
       "       [  2.01689593e-01],\n",
       "       [  2.08650415e-01],\n",
       "       [  2.15287228e-01],\n",
       "       [  2.21636875e-01],\n",
       "       [  2.27729999e-01],\n",
       "       [  2.33592404e-01],\n",
       "       [  2.39246049e-01],\n",
       "       [  2.44709800e-01],\n",
       "       [  2.50000000e-01],\n",
       "       [  2.55130913e-01],\n",
       "       [  2.60115073e-01],\n",
       "       [  2.64963562e-01],\n",
       "       [  2.69686232e-01],\n",
       "       [  2.74291885e-01],\n",
       "       [  2.78788425e-01],\n",
       "       [  2.83182976e-01],\n",
       "       [  2.87481988e-01],\n",
       "       [  2.91691321e-01],\n",
       "       [  2.95816316e-01],\n",
       "       [  2.99861860e-01],\n",
       "       [  3.03832435e-01],\n",
       "       [  3.07732163e-01],\n",
       "       [  3.11564848e-01],\n",
       "       [  3.15334006e-01],\n",
       "       [  3.19042897e-01],\n",
       "       [  3.22694550e-01],\n",
       "       [  3.26291782e-01],\n",
       "       [  3.29837224e-01],\n",
       "       [  3.33333333e-01],\n",
       "       [  3.36782411e-01],\n",
       "       [  3.40186616e-01],\n",
       "       [  3.43547975e-01],\n",
       "       [  3.46868399e-01],\n",
       "       [  3.50149686e-01],\n",
       "       [  3.53393534e-01],\n",
       "       [  3.56601549e-01],\n",
       "       [  3.59775250e-01],\n",
       "       [  3.62916079e-01],\n",
       "       [  3.66025404e-01],\n",
       "       [  3.69104523e-01],\n",
       "       [  3.72154675e-01],\n",
       "       [  3.75177037e-01],\n",
       "       [  3.78172734e-01],\n",
       "       [  3.81142839e-01],\n",
       "       [  3.84088378e-01],\n",
       "       [  3.87010334e-01],\n",
       "       [  3.89909648e-01],\n",
       "       [  3.92787222e-01],\n",
       "       [  3.95643924e-01],\n",
       "       [  3.98480585e-01],\n",
       "       [  4.01298008e-01],\n",
       "       [  4.04096965e-01],\n",
       "       [  4.06878199e-01],\n",
       "       [  4.09642428e-01],\n",
       "       [  4.12390347e-01],\n",
       "       [  4.15122624e-01],\n",
       "       [  4.17839910e-01],\n",
       "       [  4.20542833e-01],\n",
       "       [  4.23232002e-01],\n",
       "       [  4.25908009e-01],\n",
       "       [  4.28571429e-01],\n",
       "       [  4.31222819e-01],\n",
       "       [  4.33862724e-01],\n",
       "       [  4.36491673e-01],\n",
       "       [  4.39110183e-01],\n",
       "       [  4.41718758e-01],\n",
       "       [  4.44317891e-01],\n",
       "       [  4.46908062e-01],\n",
       "       [  4.49489743e-01],\n",
       "       [  4.52063396e-01],\n",
       "       [  4.54629473e-01],\n",
       "       [  4.57188419e-01],\n",
       "       [  4.59740670e-01],\n",
       "       [  4.62286655e-01],\n",
       "       [  4.64826798e-01],\n",
       "       [  4.67361515e-01],\n",
       "       [  4.69891215e-01],\n",
       "       [  4.72416305e-01],\n",
       "       [  4.74937185e-01]])"
      ]
     },
     "execution_count": 4,
     "metadata": {},
     "output_type": "execute_result"
    }
   ],
   "source": [
    "x"
   ]
  },
  {
   "cell_type": "markdown",
   "metadata": {},
   "source": [
    "Note that, depending on the initial condition, we may encounter the limited domain problem for this problem. (This is not specific to the fixed point iteration. Even if you solve root-finding problems for each $i$, you may encounter that.)\n",
    "\n",
    "The brute-force approach using the bisection method is more robust, but must take longer to converge. \n",
    "\n"
   ]
  },
  {
   "cell_type": "markdown",
   "metadata": {
    "collapsed": true
   },
   "source": [
    "# Q3\n",
    "\n",
    "We try to find a minimizer of \n",
    "\\begin{eqnarray*}\n",
    "f(x) = \\left\\{ \\begin{array}{lc}\n",
    "\t\t\t\t\\ln x & \\mbox{ if $x\\ge 1$, and}\\\\\n",
    "\t\t\t\t\\frac{1}{2}(x^2-1) & \\mbox{ if $x < 1$.}\n",
    "\t\t\t\t\\end{array}\\right. ,\n",
    "\\end{eqnarray*}\n",
    "which is $x=0$.\n",
    "\n",
    "\n",
    "Consider sequences $\\{x_n\\}$, $\\{p_n\\}$, and $\\{\\alpha_n\\}$ such that\n",
    "\n",
    "- $p_n = -1$ for all $n=0,1,...$;\n",
    "- $\\alpha_n = \\frac{1}{2^{n+1}}$ for all $n=0,1,...$; and\n",
    "- $x_0=2$ and $x_{n+1} = x_n +\\alpha_n p_n$ for $n=0,1,...$. \n",
    "\n",
    "### (1) $x_n \\in (1,2]$ for all $n$\n",
    "\n",
    "$x_{n+1} = x_n -\\frac{1}{2^{n+1}} = x_0 - \\sum_{i=1}^{n+1} \\frac{1}{2^{i}} = 2- \\sum_{i=1}^{n+1} \\frac{1}{2^{i}}.$\n",
    "\n",
    "Because, for any finite $n$, \n",
    "\n",
    "$$ 0< \\sum_{i=1}^{n+1} \\frac{1}{2^{i}} <\\sum_{i=1}^{\\infty} \\frac{1}{2^{i}} = 1,$$\n",
    "\n",
    "it follows that $x_n \\in (1,2]$ for all $n$.\n",
    "\n",
    "### (2) $x_n \\downarrow 1$ as $n\\rightarrow \\infty$\n",
    "\n",
    "This is obvious because $\\sum_{i=1}^{n+1} \\frac{1}{2^{i}}$ is increasing in $n$ and $\\sum_{i=1}^{n+1} \\frac{1}{2^{i}} \\rightarrow 1$ as $n\\rightarrow \\infty$. \n",
    "\n",
    "### (3) the first Wolfe condition is satisfied for all $n$. (Hint: $f$ is a concave function for $x\\ge 1$.)\n",
    "\n",
    "Because $x_n \\in (1,2]$ for all $n$, \n",
    "\n",
    "$$ f(x_n) = \\ln x_n$$\n",
    "\n",
    "for all $n$. \n",
    "\n",
    "Because $f$ is a concave function on $[1,2]$, \n",
    "\n",
    "$$ f(x_{n+1}) < f(x_n) + f'(x_n)(x_{n+1}-x_n) = f(x_n) -f'(x_n)\\alpha_n. $$\n",
    "\n",
    "On the other hand, the first Wolfe condition for the single dimensional function $f$ is \n",
    "\n",
    "$$ f(x_{n+1}) \\le f(x_n) +c_1 \\alpha_n p_n f'(x_n) = f(x_n) -c_1 \\alpha_n f'(x_n) $$\n",
    "\n",
    "for small $c_1 \\in (0,1)$. Because $f'>0$ on $[1,2]$, \n",
    "\n",
    "$$ f(x_{n+1}) < f(x_n) + f'(x_n)(x_{n+1}-x_n) = f(x_n) -f'(x_n)\\alpha_n < f(x_n) -c_1 \\alpha_n f'(x_n). $$\n",
    "\n",
    "Hence the first Wolfe condition is automatically satisfied. \n",
    "\n",
    "### What happens when we impose the second condition\n",
    "\n",
    "The second Wolfe condition requires \n",
    "\n",
    "$$ -f'(x_1) \\ge -c_2 f'(x_0) $$\n",
    "\n",
    "for $c_2 \\in (c_1,1)$.\n",
    "\n",
    "Hence,\n",
    "\n",
    "$$ -f'(x_1) \\ge -c_2 \\frac{1}{2} \\Rightarrow f'(x_1) \\le \\frac{c_2}{2} $$\n",
    "\n",
    "for $c_2 \\in (c_1,1)$.\n",
    "\n",
    "Given the search direction $p_0 = -1$, we have to have $x_1 < x_0 = 2$. The derivative of $f$ at $x_1$ can be less than or equal to $c_2/2$ if and only if\n",
    "\n",
    "$$ x_1 \\le {\\frac{c_2}{2}}. $$\n",
    "\n",
    "The maximal value $x_1 = x_0+\\alpha_0 p_0$ can take is therefore ${\\frac{c_2}{2}}$.\n",
    "\n",
    "\n",
    "As you can see, the second Wolfe condition requires you to take a larger step and it prevents us from getting stuck at a point that is not a local minima."
   ]
  },
  {
   "cell_type": "markdown",
   "metadata": {},
   "source": [
    "# Q4\n",
    "\n",
    "\n"
   ]
  },
  {
   "cell_type": "code",
   "execution_count": 3,
   "metadata": {},
   "outputs": [
    {
     "name": "stdout",
     "output_type": "stream",
     "text": [
      "Optimization terminated successfully.    (Exit mode 0)\n",
      "            Current function value: -0.49999999990997734\n",
      "            Iterations: 8\n",
      "            Function evaluations: 8\n",
      "            Gradient evaluations: 8\n",
      "-----\n",
      "     fun: -0.49999999990997734\n",
      "     jac: array([  1.00001342e+00,  -5.00000000e-01,  -5.27197904e-16,\n",
      "        -5.00000000e-01])\n",
      " message: 'Optimization terminated successfully.'\n",
      "    nfev: 8\n",
      "     nit: 8\n",
      "    njev: 8\n",
      "  status: 0\n",
      " success: True\n",
      "       x: array([  1.00001342e+00,   2.00002684e+00,  -5.27197904e-16,\n",
      "        -4.37563776e-16])\n"
     ]
    }
   ],
   "source": [
    "from scipy import optimize \n",
    "\n",
    "thetaH = 2.0\n",
    "thetaL = 1.0\n",
    "UH = 0.0\n",
    "UL = 0.0\n",
    "\n",
    "# x = (qH,pH,qL,pL)\n",
    "\n",
    "def cost(x):\n",
    "    return 0.5*(x[0]**2-x[1] + x[2]**2 - x[3]) # Expected cost = 0.5*( qH^2-pH + qL^2-pL )\n",
    "\n",
    "\n",
    "def cost_der(x):\n",
    "    g = np.zeros_like(x)\n",
    "    g[0] = x[0]\n",
    "    g[1] = -0.5\n",
    "    g[2] = x[2]\n",
    "    g[3] = -0.5\n",
    "    return g\n",
    "\n",
    "def const(x):\n",
    "    c = np.zeros(4)\n",
    "    c[0] =thetaH*x[0]-x[1]-UH # individual rationality for H\n",
    "    c[1] =thetaL*x[2]-x[3]-UL # individual rationality for L\n",
    "    c[2] =thetaH*x[0]-x[1]-(thetaH*x[2]-x[3]) # Incentive compatibility for H\n",
    "    c[3] =thetaL*x[2]-x[3]-(thetaL*x[0]- x[1]) # Incentive compatibility for L\n",
    "    return c\n",
    "\n",
    "def const_jac(x):\n",
    "    jac = np.array([[thetaH, -1.0, 0.0, 0.0],\n",
    "                    [0.0, 0.0, thetaL, -1.0],\n",
    "                    [thetaH, -1.0, -thetaH, 1.0],\n",
    "                    [-thetaL, 1.0, thetaL, -1.0]])\n",
    "    return jac\n",
    "\n",
    "\n",
    "cons = ({'type': 'ineq', 'fun': const, 'jac': const_jac})\n",
    "\n",
    "res = optimize.minimize(cost, [0., 0., 0., 0.], jac=cost_der, method='SLSQP', \n",
    "                        constraints=cons, options={'disp': True, 'ftol': 1.0e-8})\n",
    "                    \n",
    "print('-----')\n",
    "print(res)\n",
    "\n"
   ]
  },
  {
   "cell_type": "markdown",
   "metadata": {},
   "source": [
    "The solution is separating. The H type faces higher price and higher quality than does the L type.\n",
    "\n",
    "To see which constraints are not binding, let us evaluate the constraint function at the solution:"
   ]
  },
  {
   "cell_type": "code",
   "execution_count": 4,
   "metadata": {
    "scrolled": true
   },
   "outputs": [
    {
     "name": "stdout",
     "output_type": "stream",
     "text": [
      "-----\n",
      "Constraint evaluated at the solution\n",
      "[  2.22044605e-15  -8.96341288e-17   2.83727808e-15   1.00001342e+00]\n"
     ]
    }
   ],
   "source": [
    "print('-----')\n",
    "print('Constraint evaluated at the solution')\n",
    "print(const(res.x))"
   ]
  },
  {
   "cell_type": "markdown",
   "metadata": {},
   "source": [
    "The last value is different from zero, so the IC for the L type is slack.\n",
    "\n",
    "The remaining values are close to zero, but they may happen to be so. \n",
    "\n",
    "To check whether they are binding or not, we can either relax or tighten each of these constraints to examine whether the solution changes or not.\n",
    "\n",
    "First the IR constraint for L. This constraint is binding:"
   ]
  },
  {
   "cell_type": "code",
   "execution_count": 5,
   "metadata": {},
   "outputs": [
    {
     "name": "stdout",
     "output_type": "stream",
     "text": [
      "Optimization terminated successfully.    (Exit mode 0)\n",
      "            Current function value: -0.594999999665983\n",
      "            Iterations: 7\n",
      "            Function evaluations: 7\n",
      "            Gradient evaluations: 7\n",
      "\n",
      "Solution when UL= -0.1\n",
      "[ 1.00002585  2.00005169  0.1         0.2       ]\n",
      "Changes in the solution\n",
      "[  1.24283166e-05   2.48566332e-05   1.00000000e-01   2.00000000e-01]\n"
     ]
    }
   ],
   "source": [
    "UL = -0.1\n",
    "\n",
    "res1 = optimize.minimize(cost, [0., 0., 0., 0.], jac=cost_der, method='SLSQP', \n",
    "                        constraints=cons, options={'disp': True, 'ftol': 1.0e-8})\n",
    "\n",
    "print('')\n",
    "print('Solution when UL=', UL)\n",
    "print(res1.x)\n",
    "print('Changes in the solution')\n",
    "print(res1.x-res.x)\n",
    "\n",
    "UL = 0.0"
   ]
  },
  {
   "cell_type": "markdown",
   "metadata": {},
   "source": [
    "Then the IC constraint for H. I add 0.1 to the LHS of the IC for H to relax the constraint. \n",
    "\n",
    "This constraint is also binding."
   ]
  },
  {
   "cell_type": "code",
   "execution_count": 6,
   "metadata": {
    "scrolled": true
   },
   "outputs": [
    {
     "name": "stdout",
     "output_type": "stream",
     "text": [
      "Optimization terminated successfully.    (Exit mode 0)\n",
      "            Current function value: -0.5450000000000005\n",
      "            Iterations: 7\n",
      "            Function evaluations: 7\n",
      "            Gradient evaluations: 7\n",
      "\n",
      "Solution when the IC is relaxed\n",
      "[ 1.   2.   0.1  0.1]\n",
      "Changes in the solution\n",
      "[ -1.34179968e-05  -2.68359936e-05   1.00000000e-01   1.00000000e-01]\n"
     ]
    }
   ],
   "source": [
    "\n",
    "\n",
    "def const2(x):\n",
    "    c = np.zeros(4)\n",
    "    c[0] =thetaH*x[0]-x[1]-UH # individual rationality for H\n",
    "    c[1] =thetaL*x[2]-x[3]-UL # individual rationality for L\n",
    "    c[2] =thetaH*x[0]-x[1]-(thetaH*x[2]-x[3])+0.1 # Incentive compatibility for H\n",
    "    c[3] =thetaL*x[2]-x[3]-(thetaL*x[0]- x[1]) # Incentive compatibility for L\n",
    "    return c\n",
    "\n",
    "cons2 = ({'type': 'ineq', 'fun': const2, 'jac': const_jac})\n",
    "res2 = optimize.minimize(cost, [0., 0., 0., 0.], jac=cost_der, method='SLSQP', \n",
    "                        constraints=cons2, options={'disp': True, 'ftol': 1.0e-8})\n",
    "\n",
    "print('')\n",
    "print('Solution when the IC is relaxed')\n",
    "print(res2.x)\n",
    "print('Changes in the solution')\n",
    "print(res2.x-res.x)"
   ]
  },
  {
   "cell_type": "markdown",
   "metadata": {},
   "source": [
    "Finally, the IR for the H type is slack:"
   ]
  },
  {
   "cell_type": "code",
   "execution_count": 31,
   "metadata": {},
   "outputs": [
    {
     "name": "stdout",
     "output_type": "stream",
     "text": [
      "Optimization terminated successfully.    (Exit mode 0)\n",
      "            Current function value: -0.49999999920423527\n",
      "            Iterations: 8\n",
      "            Function evaluations: 8\n",
      "            Gradient evaluations: 8\n",
      "\n",
      "Solution when UH= -0.1\n",
      "[  1.00002180e+00   2.00007701e+00  -3.34137913e-05  -3.34137913e-05]\n",
      "Changes in the solution\n",
      "[  8.37764229e-06   5.01690759e-05  -3.34137913e-05  -3.34137913e-05]\n"
     ]
    }
   ],
   "source": [
    "\n",
    "UH = -0.1\n",
    "\n",
    "res3 = optimize.minimize(cost, [0., 0., 0., 0.], jac=cost_der, method='SLSQP', \n",
    "                        constraints=cons, options={'disp': True, 'ftol': 1.0e-8})\n",
    "\n",
    "print('')\n",
    "print('Solution when UH=', UH)\n",
    "print(res3.x)\n",
    "print('Changes in the solution')\n",
    "print(res3.x-res.x)\n",
    "\n",
    "UH = 0.0"
   ]
  },
  {
   "cell_type": "markdown",
   "metadata": {},
   "source": [
    "This is natural. If both the IR and the IC for the H type are slack, then the seller can increase her profit by raising the price for the H type. So either one of them has to be binding. In this example, UH is sufficiently low and the IR is slack for the H type. Hence the IC for the H type binds. \n",
    "\n",
    "In sum, the IC for the H type and the IR for the L type bind."
   ]
  },
  {
   "cell_type": "markdown",
   "metadata": {},
   "source": [
    "Now let us raise $\\theta_H$.\n",
    "\n",
    "Higher $\\theta_H$ implies that the H type is willing to pay more for the same quality. This allows the seller to achieve higher profit by increasing the quality qH and the price pH. The effects on qL and pL are small. "
   ]
  },
  {
   "cell_type": "code",
   "execution_count": 32,
   "metadata": {},
   "outputs": [
    {
     "name": "stdout",
     "output_type": "stream",
     "text": [
      "Optimization terminated successfully.    (Exit mode 0)\n",
      "            Current function value: -1.1249999999999982\n",
      "            Iterations: 7\n",
      "            Function evaluations: 7\n",
      "            Gradient evaluations: 7\n",
      "\n",
      "Solution when thetaH= 3.0\n",
      "[  1.50000000e+00   4.50000000e+00  -4.00377834e-16   1.19282891e-17]\n",
      "Changes in the solution\n",
      "[  4.99986582e-01   2.49997316e+00   1.26820071e-16   4.49492065e-16]\n",
      "Optimization terminated successfully.    (Exit mode 0)\n",
      "            Current function value: -4.499999999999968\n",
      "            Iterations: 8\n",
      "            Function evaluations: 8\n",
      "            Gradient evaluations: 8\n",
      "\n",
      "Solution when thetaH= 6.0\n",
      "[  3.00000000e+00   1.80000000e+01  -4.29176500e-15  -3.09108869e-15]\n",
      "Changes in the solution\n",
      "[  1.99998658e+00   1.59999732e+01  -3.76456710e-15  -2.65352492e-15]\n"
     ]
    }
   ],
   "source": [
    "thetaH = 3.0\n",
    "\n",
    "res_high_thetaH = optimize.minimize(cost, [0., 0., 0., 0.], jac=cost_der, method='SLSQP', \n",
    "                        constraints=cons, options={'disp': True, 'ftol': 1.0e-8})\n",
    "                    \n",
    "print('')\n",
    "print('Solution when thetaH=', thetaH)\n",
    "print(res_high_thetaH.x)\n",
    "print('Changes in the solution')\n",
    "print(res_high_thetaH.x-res.x)\n",
    "\n",
    "thetaH = 6.0\n",
    "\n",
    "res_high_thetaH = optimize.minimize(cost, [0., 0., 0., 0.], jac=cost_der, method='SLSQP', \n",
    "                        constraints=cons, options={'disp': True, 'ftol': 1.0e-8})\n",
    "                    \n",
    "print('')\n",
    "print('Solution when thetaH=', thetaH)\n",
    "print(res_high_thetaH.x)\n",
    "print('Changes in the solution')\n",
    "print(res_high_thetaH.x-res.x)\n",
    "\n",
    "thetaH = 2.0 # original value"
   ]
  },
  {
   "cell_type": "markdown",
   "metadata": {},
   "source": [
    "Now turn to $U_H$. \n",
    "\n",
    "Although the IR for the H type was slack in the original setting, it may bind for higher $U_H$. \n",
    "\n",
    "What happens below is that, when UH is raised to 1.0, the IR for the H types is binding. The IR for the L type is still satisfied (almost) with equality, but the IC for the L types starts binding while that for the H type becomes slack.\n",
    "\n",
    "When UH is raised further to 2.0, the IR for the L type becomes slack. \n"
   ]
  },
  {
   "cell_type": "code",
   "execution_count": 33,
   "metadata": {},
   "outputs": [
    {
     "name": "stdout",
     "output_type": "stream",
     "text": [
      "Optimization terminated successfully.    (Exit mode 0)\n",
      "            Current function value: -0.1249999999993941\n",
      "            Iterations: 8\n",
      "            Function evaluations: 8\n",
      "            Gradient evaluations: 8\n",
      "\n",
      "Solution when UH= 1.0\n",
      "[ 1.         1.         0.5000011  0.5000011]\n",
      "Changes in the solution\n",
      "[  1.99998658e+00   1.59999732e+01  -3.76456710e-15  -2.65352492e-15]\n",
      "Constraint evaluated at the solution\n",
      "[  1.77635684e-15   9.99200722e-16   4.99998900e-01  -8.88178420e-16]\n",
      "\n",
      "Optimization terminated successfully.    (Exit mode 0)\n",
      "            Current function value: 0.7500000000689266\n",
      "            Iterations: 9\n",
      "            Function evaluations: 9\n",
      "            Gradient evaluations: 9\n",
      "\n",
      "Solution when UH= 2.0\n",
      "[  1.50000974e+00   1.00001948e+00   5.00006555e-01   1.62957742e-05]\n",
      "Changes in the solution\n",
      "[  4.99996323e-01  -1.00000735e+00   5.00006555e-01   1.62957742e-05]\n",
      "Constraint evaluated at the solution\n",
      "[  8.88178420e-16   4.99990259e-01   1.00000319e+00  -7.77156117e-16]\n",
      "\n"
     ]
    }
   ],
   "source": [
    "UH = 1.0\n",
    "\n",
    "res_high_UH = optimize.minimize(cost, [0., 0., 0., 0.], jac=cost_der, method='SLSQP', \n",
    "                        constraints=cons, options={'disp': True, 'ftol': 1.0e-8})\n",
    "                    \n",
    "print('')\n",
    "print('Solution when UH=', UH)\n",
    "print(res_high_UH.x)\n",
    "print('Changes in the solution')\n",
    "print(res_high_thetaH.x-res.x)\n",
    "print('Constraint evaluated at the solution')\n",
    "print(const(res_high_UH.x))\n",
    "print('')\n",
    "\n",
    "UH = 2.0\n",
    "\n",
    "res_high_UH = optimize.minimize(cost, [0., 0., 0., 0.], jac=cost_der, method='SLSQP', \n",
    "                        constraints=cons, options={'disp': True, 'ftol': 1.0e-8})\n",
    "                    \n",
    "print('')\n",
    "print('Solution when UH=', UH)\n",
    "print(res_high_UH.x)\n",
    "print('Changes in the solution')\n",
    "print(res_high_UH.x-res.x)\n",
    "print('Constraint evaluated at the solution')\n",
    "print(const(res_high_UH.x))\n",
    "print('')\n",
    "\n"
   ]
  },
  {
   "cell_type": "code",
   "execution_count": null,
   "metadata": {
    "collapsed": true
   },
   "outputs": [],
   "source": []
  },
  {
   "cell_type": "code",
   "execution_count": null,
   "metadata": {
    "collapsed": true
   },
   "outputs": [],
   "source": []
  }
 ],
 "metadata": {
  "anaconda-cloud": {},
  "kernelspec": {
   "display_name": "Python 3",
   "language": "python",
   "name": "python3"
  },
  "language_info": {
   "codemirror_mode": {
    "name": "ipython",
    "version": 3
   },
   "file_extension": ".py",
   "mimetype": "text/x-python",
   "name": "python",
   "nbconvert_exporter": "python",
   "pygments_lexer": "ipython3",
   "version": "3.6.6"
  }
 },
 "nbformat": 4,
 "nbformat_minor": 2
}
