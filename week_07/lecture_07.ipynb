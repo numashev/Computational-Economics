{
 "cells": [
  {
   "cell_type": "markdown",
   "metadata": {},
   "source": [
    "# Numerical Integration"
   ]
  },
  {
   "cell_type": "markdown",
   "metadata": {},
   "source": [
    "In economics we frequently encounter integrations.\n",
    "\n",
    "In a continuous-time model, discounted present value takes a form of an intergral. E.g. in a continuous-time Ramsey model the representative household's utility is often given by\n",
    "\n",
    "$$\\int_0^\\infty e^{-\\rho t} u(c_t) dt$$\n",
    "\n",
    "where $\\rho$ is the preference discount rate and $u(c_t)$ is the utility from flow consumption at $t$.\n",
    "\n",
    "Even in discrete time models, we may need to compute expected values, which requires integration for continuous-valued random variables. E.g.\n",
    "\n",
    "$$ u'(c_t) = \\beta \\mathbb{E}[ u'(c_{t+1})|I_t] (1+R_{t+1}^f) =\\beta(1+R_{t+1}^f)  \\int u'(c)p(c|I_t)dc.   $$ \n",
    "\n",
    "In Bayesian statistics, sometimes we need to integrate when computing posterior:\n",
    "\n",
    "$$ posterior(\\theta|x) = \\frac{g(x|\\theta)prior(\\theta)}{\\int g(x|\\theta)prior(\\theta)d\\theta}.$$\n",
    "\n",
    "\n",
    "\n",
    "\n"
   ]
  },
  {
   "cell_type": "markdown",
   "metadata": {},
   "source": [
    "In this lecture we consider approximating a definite integral\n",
    "\n",
    "$$ \\int_a^b f(x) dx. $$\n",
    "\n",
    "(Indefinite integrals can be dealt with by change of variables. More on this later.)\n",
    "\n",
    "It is quite natural to think that we may approximate this with\n",
    "\n",
    "$$ \\sum_{i=0}^{N-1} f(c_i)(x_{t+1}-x_i) $$ \n",
    "\n",
    "with $a= x_0 <x_1<\\cdots <x_N=b$ and $c_i \\in (x_i,x_{i+1})$ for all $i$.\n",
    "\n",
    "This is because, by definition of the Rieman-Stieltjes integral, if we let $N\\rightarrow \\infty$ so that $x_{i+1}-x_i$ goes to zero for all $i$, we obtain\n",
    "$$ \\sum_{i=0}^N f(c_i)(x_{t+1}-x_i) \\rightarrow \\int_a^b f(x) dx.$$\n",
    "In actual computation, of course, we cannot take a limit and therefore must fix $N$ and a partition $\\{(x_i,x_{i+1})\\}$. \n",
    "\n",
    "If $f$ is a continuous function, then the mean value theorem (integral version) tells us that, for each $[x_i,x_{i+1}]$, there exists $c_i \\in [x_i,x_{i+1}]$ such that \n",
    "$$ \\int_{x_i}^{x_{i+1}} f(x) dx = f(c_i)(x_{i+1}-x_i).$$\n",
    "In reality, we do not know how to find such $c_i$ (we don't know the left hand side in the first place!). We first study three methods (the midpoint rule, the trapzoid rule, and the Simpson's rule) to approximate/estimate $f(c_i)$. \n",
    "\n",
    "Another approach to approximate an integral is to first consider an approximation of a function $f$ using some easily integrable functions (such as a set of polynomials) and then calculate the integral of the approximating function. _Gaussian quadrature_ methods are such methods that use orthogonal polynomials. These methods approximate a definite integral of the form\n",
    "\n",
    "$$ \\int_a^b f(x) w(x)dx  $$\n",
    "\n",
    "where $w$ is a weighting function, with \n",
    "\n",
    "$$ \\sum_{n=1}^N f(x_i) w_i, $$\n",
    "\n",
    "where $\\{x_i\\}$ and $\\{w_i\\}$ are obtained using some formulas without using information about $f$ itself. I.e. they can be pre-computed.\n"
   ]
  },
  {
   "cell_type": "markdown",
   "metadata": {},
   "source": [
    "# Newton-Cotes methods\n",
    "\n",
    "\n",
    "Throughout we focus on a single interval $[a,b]$. Because the methods are piecewise ones, in practice they are applied to each subinterval $[x_i,x_{i+1}]$.\n"
   ]
  },
  {
   "cell_type": "markdown",
   "metadata": {},
   "source": [
    "## Open and closed rules\n",
    "\n",
    "Open rules do not use information about $f$ at the end points of an interval.\n",
    "\n",
    "Closed rules do.\n"
   ]
  },
  {
   "cell_type": "markdown",
   "metadata": {},
   "source": [
    "## Midpoint rule\n",
    "\n",
    "The midpoint rule uses the function value at the midpoint of an interval for $f(c)$, i.e.\n",
    "\n",
    "$$ \\int_a^b f(x)dx \\approx f\\left(\\frac{a+b}{2}\\right)(b-a).$$\n",
    "\n",
    "Using the second-order Taylor approximation, we can actually obtain the approximation error:\n",
    "\n",
    "$$ \\int_a^b f(x)dx = f\\left(\\frac{a+b}{2}\\right)(b-a) + \\frac{f''(\\xi)}{24}(b-a)^3,$$\n",
    "\n",
    "where $\\xi \\in [a,b]$.\n",
    "\n",
    "The composite midpoint rule applies this method to equal-sized $N$ subintervals i.e. $x_{i+1}-x_i = h$ and $Nh = b-a$,\n",
    "\n",
    "\\begin{eqnarray}\n",
    "\\int_a^b f(x)dx &=& h \\sum_{i=1}^N f\\left(\\frac{x_{i+1}+x_i}{2}\\right) + \\sum_i \\frac{f''(\\xi_i)}{24}h^3.\n",
    "\\end{eqnarray}\n",
    "If the second derivative of $f$ is bounded by a constant $K$, i.e.\n",
    "$$ |f''(x)| \\le K<\\infty,$$\n",
    "for all $x \\in [a,b]$, then\n",
    "\\begin{eqnarray}\n",
    "|\\int_a^b f(x)dx - h \\sum_{i=1}^N f\\left(\\frac{x_{i+1}+x_i}{2}\\right)|  \\le N \\frac{K}{24}h^3 = \\frac{K(b-a)}{24}h^2.\n",
    "\\end{eqnarray}\n",
    "Hence, it converges quadratically in $h$ if $f \\in C^2$.\n"
   ]
  },
  {
   "cell_type": "markdown",
   "metadata": {},
   "source": [
    "## Trapezoid rule\n",
    "\n",
    "The trapezoid rule uses the average of the function values at endpoints for $f(c)$, i.e.\n",
    "\n",
    "$$ \\int_a^b f(x)dx \\approx \\frac{f(b)+f(a)}{2}(b-a).$$\n",
    "\n",
    "Using the second-order Taylor approximation, we can actually obtain the approximation error:\n",
    "\n",
    "$$ \\int_a^b f(x)dx = \\frac{f(a)+f(b)}{2}(b-a) - \\frac{f''(\\xi)}{12}(b-a)^3,$$\n",
    "\n",
    "where $\\xi \\in [a,b]$.\n",
    "\n",
    "The composite trapezoid rule is defined similarly as the composite midpoint rule. \n",
    "\n",
    "\\begin{eqnarray}\n",
    "\\int_a^b f(x)dx &=& h \\sum_{i=1}^N \\frac{f(x_{i+1})+f(x_i)}{2} - \\sum_i \\frac{f''(\\xi_i)}{12}h^3.\n",
    "\\end{eqnarray}\n",
    "Again, if the second derivative of $f$ is bounded by a constant $K$, i.e.\n",
    "$$ |f''(x)| \\le K<\\infty,$$\n",
    "for all $x \\in [a,b]$, then\n",
    "\\begin{eqnarray}\n",
    "|\\int_a^b f(x)dx - h \\sum_{i=1}^N \\frac{f(x_{i+1})+f(x_i)}{2}|  \\le N \\frac{K}{12}h^3 = \\frac{K(b-a)}{12}h^2.\n",
    "\\end{eqnarray}\n",
    "Hence, it converges quadratically in $h$ if $f \\in C^2$."
   ]
  },
  {
   "cell_type": "markdown",
   "metadata": {},
   "source": [
    "## Simpson's rule\n",
    "\n",
    "Both the midpoint and the trapezoid rules effectively use a piecewise linear approximation of $f$ to compute an integral. When $f$ is smooth, using a piecewise quadratic approximation may perform better. \n",
    "\n",
    "The Simpson's rule integrates a quadratic function that goes through $(a,f(a))$, $(b,f(b))$, and $(\\frac{a+b}{2},f(\\frac{a+b}{2}))$:\n",
    "\n",
    "$$ \\int_a^b f(x)dx = \\frac{b-a}{6}[f(a)+4f(\\frac{a+b}{2})+f(b)]-\\frac{(b-a)^5}{2880}f^{(4)}(\\xi) $$\n",
    "\n",
    "When we have $(n+1)$ equally spaced points, $x_0,x_1,...,x_n$, then the composite Simpson rule approximates an integral over $[x_i,x_{i+2}]$ for $i=0,2,4,...,n-2$ (hence, $n$ must be an even number with $n\\ge2$) using the above formula:\n",
    "\n",
    "$$ \\int_a^b f(x)dx \\approx \\frac{2h}{6}[f(x_0)+4f(x_1)+2f(x_2)+4f(x_3)+...+f(x_n)],$$\n",
    "\n",
    "where $h=(b-a)/n$. \n",
    "\n",
    "When $f^{(4)}$ is bounded by $K$ ($|f^(4)(x)|\\le K$ for all $x \\in [a,b]$), then the error bound is\n",
    "\n",
    "$$ |\\int_a^b f(x)dx - \\frac{h}{3}[f(x_0)+4f(x_1)+2f(x_2)+4f(x_3)+...+f(x_n)]| \\le K\\frac{(b-a)^4}{180}h^4.$$"
   ]
  },
  {
   "cell_type": "markdown",
   "metadata": {},
   "source": [
    "### Python implementation\n",
    "\n",
    "Let us check the performance of these methods using the following test function:\n",
    "\n",
    "$$ \\int_0^1 x^{1/4} dx = 0.8.$$\n"
   ]
  },
  {
   "cell_type": "code",
   "execution_count": 1,
   "metadata": {},
   "outputs": [
    {
     "name": "stdout",
     "output_type": "stream",
     "text": [
      "N, Trapzoid, Simpson\n",
      "----------------------\n",
      "(3, 0.6704482076268572, 0.72726427683580952)\n",
      "(5, 0.74465201388559044, 0.76938661597183478)\n",
      "(10, 0.779700174209631, 0.78477733914115189)\n",
      "(15, 0.78827308775754024, 0.79360386807952166)\n"
     ]
    }
   ],
   "source": [
    "import scipy.integrate as integrate\n",
    "import numpy as np\n",
    "\n",
    "# test function\n",
    "test1 = lambda x: x**(1/4)\n",
    "\n",
    "# We'll try different grid size.\n",
    "gsize = (3, 5, 10, 15)\n",
    "\n",
    "grid = [np.linspace(0.0,1.0, num=gsize[i]) for i in range(len(gsize))]\n",
    "\n",
    "fx1 = [test1(grid[i]) for i in range(len(gsize))]\n",
    "\n",
    "# Integrate using the trapezoid and the Simpson's rules:\n",
    "\n",
    "I1_trap= [np.trapz(fx1[i],grid[i]) for i in range(len(gsize)) ]\n",
    "\n",
    "I1_simp= [integrate.simps(fx1[i],grid[i]) for i in range(len(gsize)) ]\n",
    "\n",
    "# Display the result\n",
    "print('N, Trapzoid, Simpson')\n",
    "print('----------------------')\n",
    "for i in range(len(gsize)):\n",
    "    print( (gsize[i], I1_trap[i], I1_simp[i]) )\n",
    "\n"
   ]
  },
  {
   "cell_type": "markdown",
   "metadata": {},
   "source": [
    "## Romberg Method\n",
    "In reality, the method I most often use is the Romberg method. This method repeatedly apply the trapezoidal rule or the midpoint rule, expand the number of nodes, and gegerate integrals until the error becomes small enough. Check the Scipy's implementation of this method, <https://docs.scipy.org/doc/scipy/reference/generated/scipy.integrate.romberg.html>."
   ]
  },
  {
   "cell_type": "markdown",
   "metadata": {},
   "source": [
    "## Change of variables\n",
    "\n",
    "\n",
    "\n",
    "If $\\phi:\\mathbb{R}\\rightarrow \\mathbb{R}$ is a monotonically increasing $C^1$ function with integrable derivative, then for any integrable function $g:[a,b]\\rightarrow \\mathbb{R}$, \n",
    "\n",
    "$$ \\int_a^b g(x)dx = \\int_{\\phi^{-1}(a)}^{\\phi^{-1}(b)} g(\\phi(x))\\phi'(x)dx.$$\n",
    "\n",
    "This is the change of variables formula. \n",
    "\n",
    "The formula allows for any function $\\phi$ as long as it is $C^1$ and its derivative is integrable. \n",
    "\n",
    "However, for computation, we want $g(\\phi(x))\\phi'(x)$ to be sufficiently well-behaved. In general, a good choice of $\\phi$ depends on the function $g$ too.\n",
    "\n",
    "For example, the formula implies\n",
    "\n",
    "$$ \\int_0^\\infty f(x)dx = \\int_0^1 f(\\frac{z}{1-z})(1-z)^{-2}dz, $$\n",
    "\n",
    "where $\\phi(z) = z/(1-z)$. Because $\\lim_{z\\rightarrow 1} (1-z)^{-2} =\\infty$, the error bound expression in the Newton-Cotes formulas may not be informative for $f$ such that the derivative of $f(\\frac{z}{1-z})(1-z)^{-2}$ is unbounded. \n",
    "\n",
    "Unbounded $\\phi'$ is unavoidable because here $\\phi$ must transform a compact interval into an unbounded one.\n",
    "\n",
    "Still it is alright if $f(\\phi(z))\\phi'(z)$ has bounded derivatives. E.g. Judd discusses $f(x)=e^{-x}x^2$, whose derivatives (of any order) is bounded, and hence the error bound formulas in the Newton-Cotes methods apply. \n",
    "\n",
    "Similarly,\n",
    "\n",
    "$$ \\int_{-\\infty}^\\infty f(x)dx = \\int_0^1 f(\\ln\\frac{z}{1-z})\\frac{1}{z(1-z)}dz, $$\n",
    "\n",
    "using $\\phi(z) = \\ln(z/(1-z))$. "
   ]
  },
  {
   "cell_type": "markdown",
   "metadata": {},
   "source": [
    "## Gaussian quadratures\n",
    "\n",
    "Gaussian quadrature methods approximate\n",
    "\n",
    "$$ \\int_a^b f(x) w(x)dx  $$\n",
    "\n",
    "where $w$ is a weighting function, with \n",
    "\n",
    "$$ \\sum_{i=1}^n f(x_i) \\omega_i, $$\n",
    "\n",
    "where $\\{x_i\\}$ and $\\{\\omega_i\\}$ are obtained using some formulas without using information about $f$ itself. I.e. they can be pre-computed. \n",
    "\n",
    "More specifically, for any weighting function $w$ we can consider a family of orthonormal polynomials $\\{\\phi_i\\}$, and $\\{x_1,...,x_n\\}$ is the set of roots of the n-th polynomial.\n",
    "\n",
    "The approximation is exact when $f$ is an (2n-1)-th order polynomial, even though it uses only $n$ nodes and $n$ weights."
   ]
  },
  {
   "cell_type": "markdown",
   "metadata": {},
   "source": [
    "### Gauss-Chebyshev quadrature\n",
    "\n",
    "As we studied in the previous lecture, Chebyshev polynomials are orthogonal for the weighting function $w(x)=(1-x^2)^{-1/2}$ on $[a,b]$. \n",
    "\n",
    "Conveniently, the roots of the n-th order Chebyshev polynomial are expressed as\n",
    "\n",
    "$$ x_i = \\cos\\left(\\frac{2i-1}{2n}\\pi\\right)$$\n",
    "\n",
    "for $i=1,2,...,n$, and the weight is given by a constant, $\\pi/n$. \n",
    "\n",
    "The Gauss-Chebyshev quadrature rule approximates \n",
    "\n",
    "$$ \\int_{-1}^1 f(x)(1-x^2)^{-1/2}dx \\approx \\frac{\\pi}{n}\\sum_{i=1}^n f(x_i).$$\n",
    "\n",
    "If we approximate\n",
    "\n",
    "$$\\int_{-1}^1 g(x)dx, $$\n",
    "\n",
    "we define $f(x) = g(x)(1-x^2)^{1/2}$ and apply the above formula, i.e.\n",
    "\n",
    "$$ \\int_{-1}^1 g(x)dx \\approx \\frac{\\pi}{n}\\sum_{i=1}^n f(x_i)=\\frac{\\pi}{n}\\sum_{i=1}^n g(x_i)(1-x_i^2)^{1/2}.$$\n",
    "\n",
    "\n",
    "If we approximate\n",
    "\n",
    "$$\\int_{a}^b g(x)dx, $$\n",
    "\n",
    "we first use the change of variables formula with $z = a+\\frac{x+1}{2}(b-a)$ to have\n",
    "\n",
    "$$\\int_{a}^b g(x)dx = \\int_{-1}^1 g\\left(a+\\frac{x+1}{2}(b-a)\\right)\\frac{b-a}{2}dx, $$\n",
    "\n",
    "and then use \n",
    "\n",
    "$$ \\frac{b-a}{2}\\frac{\\pi}{n}\\sum_{i=1}^n g\\left(a+\\frac{x_i+1}{2}(b-a)\\right)(1-x_i^2)^{1/2}$$\n",
    "\n",
    "to approximate the right hand side."
   ]
  },
  {
   "cell_type": "code",
   "execution_count": 2,
   "metadata": {},
   "outputs": [
    {
     "name": "stdout",
     "output_type": "stream",
     "text": [
      "N, Gauss-Chebyshev\n",
      "----------------------\n",
      "(3, 0.83078126994807733)\n",
      "(5, 0.81021350250016044)\n",
      "(7, 0.80502376698156086)\n",
      "(10, 0.80238802939743903)\n"
     ]
    }
   ],
   "source": [
    "# Let's use the Gauss-Chebyshev quadrature to the previous test function.\n",
    "\n",
    "a,b = 0.,1.\n",
    "\n",
    "test1_cv = lambda x: test1(a+(b-a)*(x+1.)/2)\n",
    "\n",
    "nodes_vec = [3, 5, 7, 10]\n",
    "\n",
    "I1_GC = np.zeros(len(nodes_vec))\n",
    "print('N, Gauss-Chebyshev')\n",
    "print('----------------------')\n",
    "for i,n in enumerate(nodes_vec):\n",
    "    roots = np.cos( np.pi/(2*n)*(2*np.linspace(1,n,n, dtype=int)-1)+0.0 ) \n",
    "    I1_GC[i] = (b-a)/2*np.pi/n*( test1_cv(roots)@((1-roots**2)**(1/2)) )\n",
    "    print((n, I1_GC[i]))    \n"
   ]
  },
  {
   "cell_type": "markdown",
   "metadata": {},
   "source": [
    "### Gauss-Legendre quadrature\n",
    "\n",
    "When the weigting function is constant $w(x)=1$ on [-1,1], we have the Gauss-Legendre quadrature formula\n",
    "\n",
    "$$ \\int_{-1}^1 f(x)dx \\approx \\sum_{i=1}^n \\omega_i f(x_i).$$\n",
    "\n",
    "To approximate an integral over $[a,b]$, we again use a linear change of variables formula:\n",
    "\n",
    "$$ \\int_{a}^b f(x)dx  \\approx \\frac{b-a}{2}\\sum_{i=1}^n \\omega_i f\\left(a+\\frac{x_i+1}{2}(b-a)\\right).$$\n",
    "\n",
    "For the Gauss-Legendre quadrature, we do not have an analytical expression for the roots. Instead they are recursively obtained. The formula can be found in e.g. Hildebrand (1987).\n",
    "\n",
    "Here I provide lists of weights and roots up to 10th order. (They are not super-accurate but accurate up to 7-8 digits.)\n"
   ]
  },
  {
   "cell_type": "code",
   "execution_count": 3,
   "metadata": {
    "collapsed": true
   },
   "outputs": [],
   "source": [
    "# Roots and weights for the n-th order are stored in rwo (n-2).\n",
    "\n",
    "x_GL = ( [-0.577350269189626,   0.577350269189626],\n",
    "        [-0.774596669241483,                   0,   0.774596669241483],\n",
    "        [-0.861136311594054,  -0.339981043584856,   0.339981043584856,   0.861136311594053],\n",
    "        [-0.906179845938664,  -0.538469310105683,                   0,   0.538469310105683,   0.906179845938664],\n",
    "        [-0.932469514203153,  -0.661209386466264,  -0.238619186083197,   0.238619186083197,   0.661209386466263,\n",
    "         0.932469514203152],\n",
    "        [-0.949107912342759,  -0.741531185599395,  -0.405845151377397,                   0,   0.405845151377397,\n",
    "         0.741531185599396,   0.949107912342757],\n",
    "        [-0.960289856497537,  -0.796666477413630,  -0.525532409916328,  -0.183434642495650,   0.183434642495650,\n",
    "         0.525532409916329,   0.796666477413627,   0.960289856497536],\n",
    "        [-0.968160239507624,  -0.836031107326636,  -0.613371432700588,  -0.324253423403809,                   0,\n",
    "         0.324253423403809,   0.613371432700590,   0.836031107326638,   0.968160239507624],\n",
    "        [-0.973906528517169,  -0.865063366688988,  -0.679409568299025,  -0.433395394129247,  -0.148874338981631,\n",
    "         0.148874338981631,   0.433395394129247,   0.679409568299024,   0.865063366688989,   0.973906528517168])\n",
    "        \n",
    "        \n",
    "        \n",
    "w_GL = ( [0.999999999999999,   1.000000000000000],\n",
    "         [0.555555555555556,   0.888888888888889,   0.555555555555555],\n",
    "         [0.347854845137464,   0.652145154862547,   0.652145154862546,   0.347854845137460],\n",
    "        [0.236926885056195,   0.478628670499366,   0.568888888888889,   0.478628670499367,   0.236926885056187],\n",
    "        [0.171324492379185,   0.360761573048133,   0.467913934572691,   0.467913934572691,   0.360761573048133,\n",
    "         0.171324492379166],\n",
    "        [0.129484966168865,   0.279705391489278,   0.381830050505118,   0.417959183673469,   0.381830050505119,\n",
    "         0.279705391489287,   0.129484966168856],\n",
    "        [0.101228536290408,   0.222381034453391,   0.313706645877883,   0.362683783378362,   0.362683783378362,\n",
    "         0.313706645877888,   0.222381034453383,   0.101228536290343],\n",
    "        [0.081274388361560,   0.180648160694873,   0.260610696402926,   0.312347077040004,   0.330239355001260,\n",
    "         0.312347077040003,   0.260610696402930,   0.180648160694881,   0.081274388361511],\n",
    "        [0.066671344308573,   0.149451349150635,   0.219086362515956,   0.269266719309995,   0.295524224714753,\n",
    "         0.295524224714753,   0.269266719309994,   0.219086362515986,   0.149451349150674,   0.066671344308615])\n",
    "        \n",
    "        "
   ]
  },
  {
   "cell_type": "code",
   "execution_count": 4,
   "metadata": {},
   "outputs": [
    {
     "name": "stdout",
     "output_type": "stream",
     "text": [
      "N, Gauss-Legendre\n",
      "----------------------\n",
      "(3, 0.80427461470382489)\n",
      "(5, 0.80135795469065552)\n",
      "(7, 0.80062214337618387)\n",
      "(10, 0.80026748393983205)\n"
     ]
    }
   ],
   "source": [
    "I1_GL = np.zeros(len(nodes_vec))\n",
    "print('N, Gauss-Legendre')\n",
    "print('----------------------')\n",
    "for i,n in enumerate(nodes_vec):\n",
    "    roots = np.array(x_GL[n-2])\n",
    "    I1_GL[i] = (b-a)/2*( test1_cv(roots)@w_GL[n-2] )\n",
    "    print((n, I1_GL[i]))    "
   ]
  },
  {
   "cell_type": "markdown",
   "metadata": {},
   "source": [
    "From the documentation, it is actually not clear what quadrature method *scipy.integrate.fixed_quad()* uses. However, it seems that it uses the Gauss-Legendre quadrature because we get the identical result:\n",
    "\n",
    "[https://docs.scipy.org/doc/scipy/reference/generated/scipy.integrate.fixed_quad.html]"
   ]
  },
  {
   "cell_type": "code",
   "execution_count": 5,
   "metadata": {},
   "outputs": [
    {
     "name": "stdout",
     "output_type": "stream",
     "text": [
      "(3, 0.80427461470382489)\n",
      "(5, 0.80135795469065518)\n",
      "(7, 0.80062214337618665)\n",
      "(10, 0.80026748393983604)\n"
     ]
    }
   ],
   "source": [
    "I1_scipy_fxd = np.zeros(len(nodes_vec))\n",
    "for i,n in enumerate(nodes_vec):\n",
    "    I1_scipy_fxd[i] = integrate.fixed_quad(test1, a,b, n=nodes_vec[i])[0]\n",
    "    print((n, I1_scipy_fxd[i]))  "
   ]
  },
  {
   "cell_type": "markdown",
   "metadata": {},
   "source": [
    "There is another function _scipy.integrate.quad()_. It uses adaptive, not fixed quadrature. We do not specify what quadrature method to use, the number of nodes, etc. [https://docs.scipy.org/doc/scipy/reference/generated/scipy.integrate.quad.html]"
   ]
  },
  {
   "cell_type": "code",
   "execution_count": 6,
   "metadata": {},
   "outputs": [
    {
     "name": "stdout",
     "output_type": "stream",
     "text": [
      "0.8000000000000004\n"
     ]
    }
   ],
   "source": [
    "I1_scipy = integrate.quad(test1, a,b)[0]\n",
    "print(I1_scipy)  "
   ]
  },
  {
   "cell_type": "markdown",
   "metadata": {},
   "source": [
    "### Gauss-Hermite quadrature\n",
    "\n",
    "The weighting function for the Gauss-Hermite quadrature is $e^{-x^2}$ on $(-\\infty,\\infty)$. \n",
    "\n",
    "$$ \\int_{-\\infty}^\\infty f(x)e^{-x^2}dx \\approx \\sum_{i=1}^\\infty \\omega_i f(x_i).$$\n",
    "\n",
    "This can be useful when we compute the expected value of a function of a normally distributed random variable, $\\mathbb{E}[f(X)]$:\n",
    "\n",
    "$$ \\frac{1}{\\sqrt{2\\pi\\sigma^2}}\\int_{-\\infty}^\\infty f(x)x e^{-\\frac{(x-\\mu)^2}{2\\sigma^2}}dx. $$"
   ]
  },
  {
   "cell_type": "code",
   "execution_count": 7,
   "metadata": {},
   "outputs": [
    {
     "name": "stdout",
     "output_type": "stream",
     "text": [
      "Moments: True, Estimate\n",
      "----------------------\n",
      "Mean     1.0 0.9999999999999999\n",
      "Variance 4.0 4.000000000000003\n",
      "Skewness 0.0 -1.734723475976807e-16\n"
     ]
    }
   ],
   "source": [
    "# Evaluate some moments of a normal distribution\n",
    "\n",
    "mmu = 1.0\n",
    "ssig = 2.0 \n",
    "\n",
    "test2 = lambda x: x*np.exp(-(x-mmu)**2/(2*ssig**2))/(ssig*np.sqrt(2.0*np.pi))\n",
    "test3 = lambda x: (x-mmu)**2*np.exp(-(x-mmu)**2/(2*ssig**2))/(ssig*np.sqrt(2.0*np.pi))\n",
    "test4 = lambda x: ((x-mmu)/ssig)**3*np.exp(-(x-mmu)**2/(2*ssig**2))/(ssig*np.sqrt(2.0*np.pi))\n",
    "\n",
    "print('Moments: True, Estimate')\n",
    "print('----------------------')\n",
    "print('Mean    ', mmu, integrate.quad(test2, -np.inf,np.inf)[0])\n",
    "print('Variance', ssig**2, integrate.quad(test3, -np.inf,np.inf)[0])\n",
    "print('Skewness', 0.0, integrate.quad(test4, -np.inf,np.inf)[0])\n"
   ]
  },
  {
   "cell_type": "markdown",
   "metadata": {},
   "source": [
    "### Gauss-Laguerre quadrature\n",
    "\n",
    "The weighting function for the Gauss-Laguerre quadrature is $e^{-x}$ on $[0,\\infty)$. \n",
    "\n",
    "$$ \\int_{0}^\\infty f(x)e^{-x}dx \\approx \\sum_{i=1}^\\infty \\omega_i f(x_i).$$"
   ]
  },
  {
   "cell_type": "markdown",
   "metadata": {},
   "source": [
    "Weights and roots for the Gauss-Hermite and the Gauss-Laguerre quadratures can be found in Judd and in e.g. [http://www.efunda.com/math/num_integration/findgausshermite.cfm] and [http://keisan.casio.com/exec/system/1281279441]."
   ]
  },
  {
   "cell_type": "markdown",
   "metadata": {},
   "source": [
    "### Multi-dimensional integration\n",
    "\n",
    "We can approximate a double integral on a rectangle by applying the approximating formulas twice:\n",
    "\n",
    "$$ \\int_a^b \\int_c^d f(x,y)dydx \\approx \\int_a^b \\sum_{i=1}^n w_i f(x,y_i)dx = \\sum_{i=1}^n w_i \\int_a^b f(x,y_i)dx\\approx \\sum_{i=1}^n w_i \\sum_{j=1}^m w_jf(x_j,y_i) = \\sum_{i=1}^n \\sum_{j=1}^m  w_iw_jf(x_j,y_i).$$\n",
    "\n",
    "This is easily generalizable for higher dimensions, but this method faces 'curse of dimensionality' quickly, particularly when the number of nodes per dimension is not low. \n"
   ]
  },
  {
   "cell_type": "markdown",
   "metadata": {},
   "source": [
    "_scipy.integrate.dblquad()_ computes a double integral of function $f(x,y)$, and the range of $y$ can be differnt for different $x$:\n",
    "\n",
    "$$ \\int_a^b \\int_{c(x)}^{d(x)} f(x,y)dydx $$\n",
    "\n",
    "is approximated.\n",
    "\n",
    "[https://docs.scipy.org/doc/scipy/reference/generated/scipy.integrate.dblquad.html]\n",
    "\n",
    "See also \n",
    "_scipy.integrate.nquad()_ [https://docs.scipy.org/doc/scipy/reference/generated/scipy.integrate.nquad.html]\n",
    "_scipy.integrate.tplquad()_ [https://docs.scipy.org/doc/scipy/reference/generated/scipy.integrate.tplquad.html]\n",
    "and examples in\n",
    "[https://docs.scipy.org/doc/scipy/reference/tutorial/integrate.html]"
   ]
  },
  {
   "cell_type": "markdown",
   "metadata": {},
   "source": [
    "## Quiz\n",
    "\n",
    "1. In the composite midpoint and the composite trapezoid rules, the error bounds goes to zero as we let $K\\rightarrow 0$ for fixed $h$. Explain why this happens. [Hint: what does $K=0$ mean?]\n",
    "2. Try to use Romberg method to integrate some test function.\n",
    "3. Numpy has some routines that compute the roots and the weights for the quadratures we studied in the lecture. _numpy.polynomial.legendre.leggauss_ for the Gauss-Legendre quadrature, _numpy.polynomial.hermite.hermgauss_ for the Gauss-Hermite quadrature, and _numpy.polynomial.laguerre.laggauss_ for the Gauss-Laguerre quadrature. Using these functions, for each of these three kinds of quadratures, create a list that stores the roots and a list that stores the weights, for n=2 to n=10. [Hint: the following cell computes the lists for the Gauss-Legendre quadratures. You may try modifying it.]\n",
    "\n",
    "[https://docs.scipy.org/doc/numpy/reference/generated/numpy.polynomial.legendre.leggauss.html]\n",
    "[https://docs.scipy.org/doc/numpy/reference/generated/numpy.polynomial.hermite.hermgauss.html]\n",
    "[https://docs.scipy.org/doc/numpy/reference/generated/numpy.polynomial.laguerre.laggauss.html]"
   ]
  },
  {
   "cell_type": "code",
   "execution_count": null,
   "metadata": {
    "collapsed": true
   },
   "outputs": [],
   "source": [
    "x_GL = []\n",
    "w_GL = []\n",
    "\n",
    "for i in range(2,11):\n",
    "    x,w = np.polynomial.legendre.leggauss(i)\n",
    "    \n",
    "    x_GL += [x]\n",
    "    w_GL += [w]\n",
    "    \n",
    "for i in range(2,11):\n",
    "    print(i,x_GL[i-2], w_GL[i-2]) # i-th polynomial roots and weights are stored as the (i-2)-th element in the list"
   ]
  }
 ],
 "metadata": {
  "anaconda-cloud": {},
  "kernelspec": {
   "display_name": "Python 3",
   "language": "python",
   "name": "python3"
  },
  "language_info": {
   "codemirror_mode": {
    "name": "ipython",
    "version": 3
   },
   "file_extension": ".py",
   "mimetype": "text/x-python",
   "name": "python",
   "nbconvert_exporter": "python",
   "pygments_lexer": "ipython3",
   "version": "3.7.0"
  }
 },
 "nbformat": 4,
 "nbformat_minor": 2
}
