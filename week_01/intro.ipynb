{
 "cells": [
  {
   "cell_type": "markdown",
   "metadata": {},
   "source": [
    "# Computational Methods in Economics\n",
    "## Introduction\n",
    "This course is designed for students to learn computational methods in economics. The course is relevant particularly for those who are in our PhD or Honours program and interested in writing a thesis that involves computations.\n",
    "\n",
    "## Assessment\n",
    "\n",
    "1. Coding assignments will be givne fortnightly.\n",
    "2. (**PhD only** 18%) In-class quizes will be assigned to PhD students occasionally. Students are supposed to present their answers in the next week's class.\n",
    "3. (**PhD only** 22%) A final exam at the end of the semester. The exam will be in a take-home style.\n",
    "\n",
    "## GitHub\n",
    "\n",
    "You are supposed to upload your answers for assignments on your Github website.\n",
    "- Create an account at https://github.com.\n",
    "- Upload your answers to the GitHub. You can do it manually on the GitHub website, but it’s better to use the git clone to upload your file(s). There are so many websites that tell you how to use git. Also, there are GUI applications for the git clone. My favorite is GitKraken.\n",
    "\n",
    "## Python\n",
    "- Python gained huge popularity in the recent years\n",
    "https://lectures.quantecon.org/py/about_py.html\n",
    "\n",
    "## Installing Python and Jupyter Notebook\n",
    "- Install Anaconda\n",
    "https://lectures.quantecon.org/py/getting_started.html\n",
    "\n",
    "## Python basics\n",
    "- Check the QuantEcon website\n",
    "https://lectures.quantecon.org/py/"
   ]
  }
 ],
 "metadata": {
  "kernelspec": {
   "display_name": "Python 3",
   "language": "python",
   "name": "python3"
  },
  "language_info": {
   "codemirror_mode": {
    "name": "ipython",
    "version": 3
   },
   "file_extension": ".py",
   "mimetype": "text/x-python",
   "name": "python",
   "nbconvert_exporter": "python",
   "pygments_lexer": "ipython3",
   "version": "3.7.0"
  }
 },
 "nbformat": 4,
 "nbformat_minor": 2
}
